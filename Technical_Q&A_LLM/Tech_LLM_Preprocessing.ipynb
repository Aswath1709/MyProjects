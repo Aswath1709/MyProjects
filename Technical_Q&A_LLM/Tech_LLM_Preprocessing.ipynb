{
 "cells": [
  {
   "cell_type": "code",
   "execution_count": null,
   "id": "9b80d356-61a6-4925-9edf-c8f69a2cf64f",
   "metadata": {
    "tags": []
   },
   "outputs": [],
   "source": [
    "#pip install gcsfs"
   ]
  },
  {
   "cell_type": "code",
   "execution_count": null,
   "id": "2e003896-73d6-498d-b5f7-3dd3ddbd829d",
   "metadata": {
    "tags": []
   },
   "outputs": [],
   "source": [
    "!pip install pyspark\n",
    "!pip install dask\n",
    "!pip install \"dask[distributed]\" --upgrade\n",
    "!pip3 install torch torchvision torchaudio\n",
    "!pip install transformers accelerate bitsandbytes\n",
    "!pip install -U flash-attn --no-build-isolation"
   ]
  },
  {
   "cell_type": "code",
   "execution_count": 3,
   "id": "31b7b194-d18a-4a65-9746-01af54f58012",
   "metadata": {
    "tags": []
   },
   "outputs": [],
   "source": [
    "import pandas as pd\n",
    "import re\n",
    "import json\n",
    "import pandas as pd\n",
    "import dask.dataframe as dd\n"
   ]
  },
  {
   "cell_type": "code",
   "execution_count": null,
   "id": "bafdbe0c-6f73-4a36-be65-920b7370552a",
   "metadata": {
    "tags": []
   },
   "outputs": [],
   "source": [
    "# import pandas as pd\n",
    "# import gcsfs\n",
    "\n",
    "# # Replace with your GCS bucket name and folder path\n",
    "# bucket_name = \"stack_overflow_data_1709\"\n",
    "# folder_path = \"stack_overflow_data/\"  # Folder containing the 900 CSVs\n",
    "\n",
    "# # Initialize GCS filesystem\n",
    "# fs = gcsfs.GCSFileSystem()\n",
    "\n",
    "# # List all CSV files in the folder\n",
    "# csv_files = fs.ls(f\"{bucket_name}/{folder_path}\")\n",
    "\n",
    "# # Filter out files that are not CSVs (if needed)\n",
    "# csv_files = [file for file in csv_files if file.endswith(\".csv\")]\n",
    "\n",
    "# # Initialize an empty list to store DataFrames\n",
    "# dataframes = []\n",
    "\n",
    "# # Load each CSV into a DataFrame and append to the list\n",
    "# for file in csv_files:\n",
    "#     with fs.open(file) as f:\n",
    "#         df = pd.read_csv(f)\n",
    "#         dataframes.append(df)\n",
    "\n",
    "# # Concatenate all DataFrames into one\n",
    "# final_dataframe = pd.concat(dataframes, ignore_index=True)\n",
    "\n",
    "# # Display the resulting DataFrame\n",
    "# print(final_dataframe)\n",
    "\n",
    "# # Save the combined DataFrame to a new CSV (optional)\n",
    "# final_dataframe.to_csv(\"stack_overflow.csv\", index=False)\n"
   ]
  },
  {
   "cell_type": "code",
   "execution_count": 1,
   "id": "4ad27f2b-cbc3-4cab-8cd5-b7df09443413",
   "metadata": {
    "tags": []
   },
   "outputs": [
    {
     "data": {
      "text/html": [
       "<div>\n",
       "    <div style=\"width: 24px; height: 24px; background-color: #e1e1e1; border: 3px solid #9D9D9D; border-radius: 5px; position: absolute;\"> </div>\n",
       "    <div style=\"margin-left: 48px;\">\n",
       "        <h3 style=\"margin-bottom: 0px;\">Client</h3>\n",
       "        <p style=\"color: #9D9D9D; margin-bottom: 0px;\">Client-29597605-dc1c-11ef-9f29-42010a8e0002</p>\n",
       "        <table style=\"width: 100%; text-align: left;\">\n",
       "\n",
       "        <tr>\n",
       "        \n",
       "            <td style=\"text-align: left;\"><strong>Connection method:</strong> Cluster object</td>\n",
       "            <td style=\"text-align: left;\"><strong>Cluster type:</strong> distributed.LocalCluster</td>\n",
       "        \n",
       "        </tr>\n",
       "\n",
       "        \n",
       "            <tr>\n",
       "                <td style=\"text-align: left;\">\n",
       "                    <strong>Dashboard: </strong> <a href=\"http://127.0.0.1:8787/status\" target=\"_blank\">http://127.0.0.1:8787/status</a>\n",
       "                </td>\n",
       "                <td style=\"text-align: left;\"></td>\n",
       "            </tr>\n",
       "        \n",
       "\n",
       "        </table>\n",
       "\n",
       "        \n",
       "\n",
       "        \n",
       "            <details>\n",
       "            <summary style=\"margin-bottom: 20px;\"><h3 style=\"display: inline;\">Cluster Info</h3></summary>\n",
       "            <div class=\"jp-RenderedHTMLCommon jp-RenderedHTML jp-mod-trusted jp-OutputArea-output\">\n",
       "    <div style=\"width: 24px; height: 24px; background-color: #e1e1e1; border: 3px solid #9D9D9D; border-radius: 5px; position: absolute;\">\n",
       "    </div>\n",
       "    <div style=\"margin-left: 48px;\">\n",
       "        <h3 style=\"margin-bottom: 0px; margin-top: 0px;\">LocalCluster</h3>\n",
       "        <p style=\"color: #9D9D9D; margin-bottom: 0px;\">531e9585</p>\n",
       "        <table style=\"width: 100%; text-align: left;\">\n",
       "            <tr>\n",
       "                <td style=\"text-align: left;\">\n",
       "                    <strong>Dashboard:</strong> <a href=\"http://127.0.0.1:8787/status\" target=\"_blank\">http://127.0.0.1:8787/status</a>\n",
       "                </td>\n",
       "                <td style=\"text-align: left;\">\n",
       "                    <strong>Workers:</strong> 3\n",
       "                </td>\n",
       "            </tr>\n",
       "            <tr>\n",
       "                <td style=\"text-align: left;\">\n",
       "                    <strong>Total threads:</strong> 33\n",
       "                </td>\n",
       "                <td style=\"text-align: left;\">\n",
       "                    <strong>Total memory:</strong> 125.80 GiB\n",
       "                </td>\n",
       "            </tr>\n",
       "            \n",
       "            <tr>\n",
       "    <td style=\"text-align: left;\"><strong>Status:</strong> running</td>\n",
       "    <td style=\"text-align: left;\"><strong>Using processes:</strong> True</td>\n",
       "</tr>\n",
       "\n",
       "            \n",
       "        </table>\n",
       "\n",
       "        <details>\n",
       "            <summary style=\"margin-bottom: 20px;\">\n",
       "                <h3 style=\"display: inline;\">Scheduler Info</h3>\n",
       "            </summary>\n",
       "\n",
       "            <div style=\"\">\n",
       "    <div>\n",
       "        <div style=\"width: 24px; height: 24px; background-color: #FFF7E5; border: 3px solid #FF6132; border-radius: 5px; position: absolute;\"> </div>\n",
       "        <div style=\"margin-left: 48px;\">\n",
       "            <h3 style=\"margin-bottom: 0px;\">Scheduler</h3>\n",
       "            <p style=\"color: #9D9D9D; margin-bottom: 0px;\">Scheduler-c12e538b-45ad-4ca2-9eaf-cf2685a1eba0</p>\n",
       "            <table style=\"width: 100%; text-align: left;\">\n",
       "                <tr>\n",
       "                    <td style=\"text-align: left;\">\n",
       "                        <strong>Comm:</strong> tcp://127.0.0.1:33005\n",
       "                    </td>\n",
       "                    <td style=\"text-align: left;\">\n",
       "                        <strong>Workers:</strong> 3\n",
       "                    </td>\n",
       "                </tr>\n",
       "                <tr>\n",
       "                    <td style=\"text-align: left;\">\n",
       "                        <strong>Dashboard:</strong> <a href=\"http://127.0.0.1:8787/status\" target=\"_blank\">http://127.0.0.1:8787/status</a>\n",
       "                    </td>\n",
       "                    <td style=\"text-align: left;\">\n",
       "                        <strong>Total threads:</strong> 33\n",
       "                    </td>\n",
       "                </tr>\n",
       "                <tr>\n",
       "                    <td style=\"text-align: left;\">\n",
       "                        <strong>Started:</strong> Just now\n",
       "                    </td>\n",
       "                    <td style=\"text-align: left;\">\n",
       "                        <strong>Total memory:</strong> 125.80 GiB\n",
       "                    </td>\n",
       "                </tr>\n",
       "            </table>\n",
       "        </div>\n",
       "    </div>\n",
       "\n",
       "    <details style=\"margin-left: 48px;\">\n",
       "        <summary style=\"margin-bottom: 20px;\">\n",
       "            <h3 style=\"display: inline;\">Workers</h3>\n",
       "        </summary>\n",
       "\n",
       "        \n",
       "        <div style=\"margin-bottom: 20px;\">\n",
       "            <div style=\"width: 24px; height: 24px; background-color: #DBF5FF; border: 3px solid #4CC9FF; border-radius: 5px; position: absolute;\"> </div>\n",
       "            <div style=\"margin-left: 48px;\">\n",
       "            <details>\n",
       "                <summary>\n",
       "                    <h4 style=\"margin-bottom: 0px; display: inline;\">Worker: 0</h4>\n",
       "                </summary>\n",
       "                <table style=\"width: 100%; text-align: left;\">\n",
       "                    <tr>\n",
       "                        <td style=\"text-align: left;\">\n",
       "                            <strong>Comm: </strong> tcp://127.0.0.1:42017\n",
       "                        </td>\n",
       "                        <td style=\"text-align: left;\">\n",
       "                            <strong>Total threads: </strong> 11\n",
       "                        </td>\n",
       "                    </tr>\n",
       "                    <tr>\n",
       "                        <td style=\"text-align: left;\">\n",
       "                            <strong>Dashboard: </strong> <a href=\"http://127.0.0.1:35883/status\" target=\"_blank\">http://127.0.0.1:35883/status</a>\n",
       "                        </td>\n",
       "                        <td style=\"text-align: left;\">\n",
       "                            <strong>Memory: </strong> 41.93 GiB\n",
       "                        </td>\n",
       "                    </tr>\n",
       "                    <tr>\n",
       "                        <td style=\"text-align: left;\">\n",
       "                            <strong>Nanny: </strong> tcp://127.0.0.1:34667\n",
       "                        </td>\n",
       "                        <td style=\"text-align: left;\"></td>\n",
       "                    </tr>\n",
       "                    <tr>\n",
       "                        <td colspan=\"2\" style=\"text-align: left;\">\n",
       "                            <strong>Local directory: </strong> /var/tmp/dask-scratch-space/worker-nyl_x_be\n",
       "                        </td>\n",
       "                    </tr>\n",
       "\n",
       "                    \n",
       "\n",
       "                    \n",
       "\n",
       "                </table>\n",
       "            </details>\n",
       "            </div>\n",
       "        </div>\n",
       "        \n",
       "        <div style=\"margin-bottom: 20px;\">\n",
       "            <div style=\"width: 24px; height: 24px; background-color: #DBF5FF; border: 3px solid #4CC9FF; border-radius: 5px; position: absolute;\"> </div>\n",
       "            <div style=\"margin-left: 48px;\">\n",
       "            <details>\n",
       "                <summary>\n",
       "                    <h4 style=\"margin-bottom: 0px; display: inline;\">Worker: 1</h4>\n",
       "                </summary>\n",
       "                <table style=\"width: 100%; text-align: left;\">\n",
       "                    <tr>\n",
       "                        <td style=\"text-align: left;\">\n",
       "                            <strong>Comm: </strong> tcp://127.0.0.1:35145\n",
       "                        </td>\n",
       "                        <td style=\"text-align: left;\">\n",
       "                            <strong>Total threads: </strong> 11\n",
       "                        </td>\n",
       "                    </tr>\n",
       "                    <tr>\n",
       "                        <td style=\"text-align: left;\">\n",
       "                            <strong>Dashboard: </strong> <a href=\"http://127.0.0.1:36405/status\" target=\"_blank\">http://127.0.0.1:36405/status</a>\n",
       "                        </td>\n",
       "                        <td style=\"text-align: left;\">\n",
       "                            <strong>Memory: </strong> 41.93 GiB\n",
       "                        </td>\n",
       "                    </tr>\n",
       "                    <tr>\n",
       "                        <td style=\"text-align: left;\">\n",
       "                            <strong>Nanny: </strong> tcp://127.0.0.1:42011\n",
       "                        </td>\n",
       "                        <td style=\"text-align: left;\"></td>\n",
       "                    </tr>\n",
       "                    <tr>\n",
       "                        <td colspan=\"2\" style=\"text-align: left;\">\n",
       "                            <strong>Local directory: </strong> /var/tmp/dask-scratch-space/worker-tyq8g72d\n",
       "                        </td>\n",
       "                    </tr>\n",
       "\n",
       "                    \n",
       "\n",
       "                    \n",
       "\n",
       "                </table>\n",
       "            </details>\n",
       "            </div>\n",
       "        </div>\n",
       "        \n",
       "        <div style=\"margin-bottom: 20px;\">\n",
       "            <div style=\"width: 24px; height: 24px; background-color: #DBF5FF; border: 3px solid #4CC9FF; border-radius: 5px; position: absolute;\"> </div>\n",
       "            <div style=\"margin-left: 48px;\">\n",
       "            <details>\n",
       "                <summary>\n",
       "                    <h4 style=\"margin-bottom: 0px; display: inline;\">Worker: 2</h4>\n",
       "                </summary>\n",
       "                <table style=\"width: 100%; text-align: left;\">\n",
       "                    <tr>\n",
       "                        <td style=\"text-align: left;\">\n",
       "                            <strong>Comm: </strong> tcp://127.0.0.1:34233\n",
       "                        </td>\n",
       "                        <td style=\"text-align: left;\">\n",
       "                            <strong>Total threads: </strong> 11\n",
       "                        </td>\n",
       "                    </tr>\n",
       "                    <tr>\n",
       "                        <td style=\"text-align: left;\">\n",
       "                            <strong>Dashboard: </strong> <a href=\"http://127.0.0.1:42357/status\" target=\"_blank\">http://127.0.0.1:42357/status</a>\n",
       "                        </td>\n",
       "                        <td style=\"text-align: left;\">\n",
       "                            <strong>Memory: </strong> 41.93 GiB\n",
       "                        </td>\n",
       "                    </tr>\n",
       "                    <tr>\n",
       "                        <td style=\"text-align: left;\">\n",
       "                            <strong>Nanny: </strong> tcp://127.0.0.1:34307\n",
       "                        </td>\n",
       "                        <td style=\"text-align: left;\"></td>\n",
       "                    </tr>\n",
       "                    <tr>\n",
       "                        <td colspan=\"2\" style=\"text-align: left;\">\n",
       "                            <strong>Local directory: </strong> /var/tmp/dask-scratch-space/worker-ck3ij94p\n",
       "                        </td>\n",
       "                    </tr>\n",
       "\n",
       "                    \n",
       "\n",
       "                    \n",
       "\n",
       "                </table>\n",
       "            </details>\n",
       "            </div>\n",
       "        </div>\n",
       "        \n",
       "\n",
       "    </details>\n",
       "</div>\n",
       "\n",
       "        </details>\n",
       "    </div>\n",
       "</div>\n",
       "            </details>\n",
       "        \n",
       "\n",
       "    </div>\n",
       "</div>"
      ],
      "text/plain": [
       "<Client: 'tcp://127.0.0.1:33005' processes=3 threads=33, memory=125.80 GiB>"
      ]
     },
     "execution_count": 1,
     "metadata": {},
     "output_type": "execute_result"
    }
   ],
   "source": [
    "from dask.distributed import Client\n",
    "\n",
    "# Start a Dask cluster (default: uses all available CPU cores)\n",
    "client = Client(n_workers=3)\n",
    "client\n",
    "# Check client and resources\n",
    "\n"
   ]
  },
  {
   "cell_type": "code",
   "execution_count": null,
   "id": "0ebe2b8d-4ac4-4a23-931c-d7f965a72d2c",
   "metadata": {
    "tags": []
   },
   "outputs": [],
   "source": [
    "def preprocess_text(row):\n",
    "    \"\"\"\n",
    "    Preprocess a single row of the dataset: clean text, add special tokens, and wrap code snippets in <CODE> tags.\n",
    "    \"\"\"\n",
    "    question = row[\"question\"]\n",
    "    answer = row[\"answer\"]\n",
    "    \n",
    "    # Define regex patterns for various code scenarios\n",
    "    code_block_pattern = r\"```(.*?)```\"  # Match Markdown-style code blocks\n",
    "    inline_code_pattern = r\"<code>(.*?)</code>\"  # Match inline HTML <code> tags\n",
    "    pre_code_pattern = r\"<pre><code>(.*?)</code></pre>\"  # Match <pre><code> blocks\n",
    "\n",
    "    # Remove general HTML tags, except for <code> and <pre>\n",
    "    question_cleaned = re.sub(r\"<(?!/?code|/?pre)[^>]+>\", \"\", question)\n",
    "    answer_cleaned = re.sub(r\"<(?!/?code|/?pre)[^>]+>\", \"\", answer)\n",
    "\n",
    "    # Wrap code blocks with <CODE> markers (Markdown-style)\n",
    "    question_cleaned = re.sub(code_block_pattern, r\"<CODE>\\1</CODE>\", question_cleaned, flags=re.DOTALL)\n",
    "    answer_cleaned = re.sub(code_block_pattern, r\"<CODE>\\1</CODE>\", answer_cleaned, flags=re.DOTALL)\n",
    "\n",
    "    # Wrap inline HTML <code> tags with <CODE> markers\n",
    "    question_cleaned = re.sub(inline_code_pattern, r\"<CODE>\\1</CODE>\", question_cleaned, flags=re.DOTALL)\n",
    "    answer_cleaned = re.sub(inline_code_pattern, r\"<CODE>\\1</CODE>\", answer_cleaned, flags=re.DOTALL)\n",
    "\n",
    "    # Wrap <pre><code> blocks with <CODE> markers\n",
    "    question_cleaned = re.sub(pre_code_pattern, r\"<CODE>\\1</CODE>\", question_cleaned, flags=re.DOTALL)\n",
    "    answer_cleaned = re.sub(pre_code_pattern, r\"<CODE>\\1</CODE>\", answer_cleaned, flags=re.DOTALL)\n",
    "\n",
    "    # Detect standalone lines that look like code based on indentation or special characters\n",
    "    # Generalized pattern for potential code-like lines\n",
    "    \n",
    "\n",
    "    # Remove excessive whitespace and normalize newlines\n",
    "    question_cleaned = re.sub(r\"\\n+\", \"\\n\", question_cleaned).strip()\n",
    "    answer_cleaned = re.sub(r\"\\n+\", \"\\n\", answer_cleaned).strip()\n",
    "\n",
    "    # Add <QUESTION> and <ANSWER> tags\n",
    "    prompt = f\"<QUESTION>{question_cleaned}<QUESTION>\"\n",
    "    completion = f\"<ANSWER>{answer_cleaned}<ANSWER>\"\n",
    "\n",
    "    # Return the structured prompt and completion\n",
    "    return {\"prompt\": prompt, \"completion\": completion}\n",
    "\n"
   ]
  },
  {
   "cell_type": "code",
   "execution_count": null,
   "id": "a39aed00-04c0-4885-91dd-eb592d44bc18",
   "metadata": {
    "tags": []
   },
   "outputs": [],
   "source": [
    "def preprocess_partition(partition):\n",
    "    \"\"\"\n",
    "    Preprocess an entire Dask DataFrame partition.\n",
    "    \"\"\"\n",
    "    # Apply preprocessing to each row and return a new DataFrame\n",
    "    processed_rows = [preprocess_text(row) for _, row in partition.iterrows()]\n",
    "    return pd.DataFrame(processed_rows)  # Convert list of dicts to DataFrame\n",
    "\n",
    "# Function to preprocess the entire dataset using Dask\n",
    "def preprocess_dataset_dask(dataset_path, output_path):\n",
    "    \"\"\"\n",
    "    Preprocess a large dataset using Dask for parallelism and save it in JSONL format.\n",
    "    \"\"\"\n",
    "    meta = pd.DataFrame({\"prompt\": pd.Series(dtype=\"str\"), \"completion\": pd.Series(dtype=\"str\")})\n",
    "    # Load dataset using Dask (assuming CSV format)\n",
    "    ddf = dd.read_csv(\n",
    "        dataset_path,\n",
    "        header=None,\n",
    "        names=[\"question_id\", \"question\", \"answer\", \"tags\"],\n",
    "        dtype={\"question_id\": \"str\", \"question\": \"str\", \"answer\": \"str\", \"tags\": \"str\"}\n",
    "    )\n",
    "    print(ddf.shape[0].compute())\n",
    "    # Apply the preprocessing function to each partition\n",
    "    processed_data = ddf.map_partitions(preprocess_partition,meta=meta)\n",
    "\n",
    "    # Compute and save as JSONL\n",
    "    processed_data = processed_data.compute()\n",
    "    with open(output_path, \"w\") as f:\n",
    "        for _, row in processed_data.iterrows():\n",
    "            json.dump(row.to_dict(), f)\n",
    "            f.write(\"\\n\")\n",
    "\n",
    "    print(f\"Preprocessed data saved to {output_path}\")"
   ]
  },
  {
   "cell_type": "code",
   "execution_count": null,
   "id": "c0ca0988-0dee-436b-a03e-b874f8193b4b",
   "metadata": {
    "tags": []
   },
   "outputs": [],
   "source": [
    "output_path = \"finetuning_dataset.jsonl\"\n",
    "preprocess_dataset_dask(dataset_path, output_path)\n"
   ]
  },
  {
   "cell_type": "code",
   "execution_count": null,
   "id": "6f2e1dce-d6a6-469b-8222-10f0225645fe",
   "metadata": {
    "tags": []
   },
   "outputs": [],
   "source": [
    "df=pd.read_json(\"finetuning_dataset.jsonl\",lines=True)"
   ]
  },
  {
   "cell_type": "code",
   "execution_count": null,
   "id": "b38daae3-59ab-4320-bcb3-9620a543d6d3",
   "metadata": {
    "tags": []
   },
   "outputs": [],
   "source": [
    "df.iloc[0][\"prompt\"]"
   ]
  },
  {
   "cell_type": "code",
   "execution_count": 14,
   "id": "d614116f-8177-474c-bcb4-9eee9d39e413",
   "metadata": {
    "tags": []
   },
   "outputs": [],
   "source": [
    "import re\n",
    "def clean_html_with_code(text):\n",
    "    code_block_pattern = r\"```(.*?)```\"  # Match Markdown-style code blocks\n",
    "    inline_code_pattern = r\"<code>(.*?)</code>\"  # Match inline HTML <code> tags\n",
    "    pre_code_pattern = r\"<pre><code>(.*?)</code></pre>\"  # Match <pre><code> blocks\n",
    "    # Remove general HTML tags, except for <code> and <pre>\n",
    "    text_cleaned = re.sub(r\"<(?!/?code|/?pre)[^>]+>\", \"\", text)\n",
    "\n",
    "    # Wrap code blocks with <CODE> markers (Markdown-style)\n",
    "    text_cleaned = re.sub(code_block_pattern, r\"<CODE>\\1</CODE>\", text_cleaned, flags=re.DOTALL)\n",
    "\n",
    "    # Wrap inline HTML <code> tags with <CODE> markers\n",
    "    text_cleaned = re.sub(inline_code_pattern, r\"<CODE>\\1</CODE>\", text_cleaned, flags=re.DOTALL)\n",
    "\n",
    "    # Wrap <pre><code> blocks with <CODE> markers\n",
    "    text_cleaned = re.sub(pre_code_pattern, r\"<CODE>\\1</CODE>\", text_cleaned, flags=re.DOTALL)\n",
    "\n",
    "    # Detect standalone lines that look like code based on indentation or special characters\n",
    "    # Generalized pattern for potential code-like lines\n",
    "    \n",
    "\n",
    "    # Remove excessive whitespace and normalize newlines\n",
    "    text_cleaned = re.sub(r\"\\n+\", \"\\n\", text_cleaned).strip()\n",
    "    return text_cleaned\n",
    "# Function to preprocess a single row\n",
    "def preprocess_row(row):\n",
    "    \"\"\"\n",
    "    Preprocesses a single row containing question and answer fields.\n",
    "    Cleans the text, removes unwanted HTML tags, and preserves code blocks.\n",
    "    \"\"\"\n",
    "    question_text = clean_html_with_code(str(row[\"question\"]))\n",
    "    answer_text = clean_html_with_code(str(row[\"answer\"]))\n",
    "\n",
    "    # Return formatted input for training\n",
    "    return {\n",
    "        \"prompt\": f\"<QUESTION>{question_text}<QUESTION>\",\n",
    "        \"completion\": f\"<ANSWER>{answer_text}<ANSWER>\"\n",
    "    }\n",
    "dataset_path = \"gs://stack_overflow_data_1709/stack_overflow_data/*.csv\"  # Replace with your dataset file path\n",
    "meta = pd.DataFrame({\"prompt\": pd.Series(dtype=\"str\"), \"completion\": pd.Series(dtype=\"str\")})\n",
    "ddf = dd.read_csv(\n",
    "        dataset_path,\n",
    "        header=None,\n",
    "        names=[\"question_id\", \"question\", \"answer\", \"tags\"],\n",
    "        dtype={\"question_id\": \"str\", \"question\": \"str\", \"answer\": \"str\", \"tags\": \"str\"}\n",
    "    )\n",
    "\n",
    "# Apply preprocessing across the Dask DataFrame\n",
    "processed_ddf = ddf.map_partitions(lambda partition: partition.apply(preprocess_row, axis=1))\n",
    "processed_ddf=processed_ddf.compute()"
   ]
  },
  {
   "cell_type": "code",
   "execution_count": 22,
   "id": "1a1d6fd2-c773-4e3d-9089-9cd13e51e663",
   "metadata": {
    "tags": []
   },
   "outputs": [],
   "source": [
    "preprocessed_list=processed_ddf.to_list()\n",
    "fine_tuning_df = pd.DataFrame(preprocessed_list) "
   ]
  },
  {
   "cell_type": "code",
   "execution_count": 28,
   "id": "4244f0d3-24e8-489d-b363-70f5dd67dd03",
   "metadata": {
    "tags": []
   },
   "outputs": [],
   "source": [
    "# Save to a file\n",
    "with open('fine_tuning_dataset.jsonl', 'w') as f:\n",
    "    f.write(fine_tuning_df.to_json(orient='records', lines=True))"
   ]
  },
  {
   "cell_type": "code",
   "execution_count": null,
   "id": "4e297ffa-1208-4235-8b46-e277ba4b0043",
   "metadata": {},
   "outputs": [],
   "source": []
  },
  {
   "cell_type": "code",
   "execution_count": 29,
   "id": "2c861032-f778-4d87-98c1-2b9a3e1d57c1",
   "metadata": {
    "tags": []
   },
   "outputs": [],
   "source": [
    "df=pd.read_json(\"fine_tuning_dataset.jsonl\",lines=True)"
   ]
  },
  {
   "cell_type": "code",
   "execution_count": null,
   "id": "341db3d6-1a19-4fb9-8a50-5199e26f10f8",
   "metadata": {
    "tags": []
   },
   "outputs": [],
   "source": [
    "df.iloc[0][\"prompt\"]"
   ]
  },
  {
   "cell_type": "code",
   "execution_count": null,
   "id": "1c3fb0f8-9cc4-4a8f-8116-b2dcd9d30986",
   "metadata": {
    "tags": []
   },
   "outputs": [],
   "source": [
    "from transformers import AutoTokenizer, AutoModelForCausalLM, BitsAndBytesConfig\n",
    "import torch\n",
    "\n",
    "model_name = \"codellama/CodeLlama-13b-Instruct-hf\"\n",
    "\n",
    "# Configure 4-bit quantization\n",
    "bnb_config = BitsAndBytesConfig(\n",
    "    load_in_4bit=True,\n",
    "    bnb_4bit_quant_type=\"nf4\",\n",
    "    bnb_4bit_compute_dtype=torch.float16,\n",
    "    bnb_4bit_use_double_quant=True,\n",
    ")\n",
    "\n",
    "# Load the tokenizer and model\n",
    "tokenizer = AutoTokenizer.from_pretrained(model_name)\n",
    "model = AutoModelForCausalLM.from_pretrained(\n",
    "    model_name,\n",
    "    quantization_config=bnb_config,\n",
    "    device_map=\"cuda\",\n",
    ")\n"
   ]
  },
  {
   "cell_type": "code",
   "execution_count": null,
   "id": "a6d6b82b-9845-44a2-83b7-f98d92df5733",
   "metadata": {
    "tags": []
   },
   "outputs": [],
   "source": [
    "prompt = \"\"\"I have a dockerfile that is suppsed to start the tomcat. I want to create and not run the image from that dockerfile so that in docker images I can see the image. docker run -it logs me in to container but I dont want to create container and log in to it.\n",
    "\n",
    "I just want to create a image from dockerfile (without creating a container of it).\n",
    "\n",
    "By which command can I achieve this ?\"\"\"\n",
    "\n",
    "input_ids = tokenizer(prompt, return_tensors=\"pt\").input_ids.to(\"cuda\")\n",
    "\n",
    "gen_tokens = model.generate(\n",
    "    input_ids,\n",
    "    do_sample=True,\n",
    "    temperature=0.9, top_p=0.95, max_new_tokens=512\n",
    ")\n",
    "gen_text = tokenizer.batch_decode(gen_tokens)[0]"
   ]
  },
  {
   "cell_type": "code",
   "execution_count": null,
   "id": "c821c828-a4ca-4621-9fe4-04a94fcbdf2b",
   "metadata": {
    "tags": []
   },
   "outputs": [],
   "source": [
    "gen_text"
   ]
  },
  {
   "cell_type": "code",
   "execution_count": 2,
   "id": "2f278e2f-43a4-46f3-be1c-e007935fbb42",
   "metadata": {
    "tags": []
   },
   "outputs": [],
   "source": [
    "import pandas as pd\n",
    "df=pd.read_json(\"fine_tuning_dataset.jsonl\",lines=True,nrows=100)"
   ]
  },
  {
   "cell_type": "code",
   "execution_count": 4,
   "id": "dcb77541-3c4b-4cd7-a4a8-bed68b849a1c",
   "metadata": {
    "tags": []
   },
   "outputs": [
    {
     "data": {
      "text/plain": [
       "'<QUESTION>Struggling to understand how to achieve this, even though it\\'s extremely commonplace across the web. \\nI have two modals, one is a \"sign up\" modal, the other is a \"log in\" modal. I need to be able to perform both actions via a user\\'s Google account. I am successfully creating and logging in users via the Google API.\\nThe trouble comes with the fact that Google\\'s drop-in button automatically signs the user in. \\nOn the page I have:\\n<pre><CODE>&lt;div class=\"g-signin2\" data-onsuccess=\"googleSignUp\"&gt;&lt;/div&gt;\\n</CODE></pre>\\nAnd later:\\n<pre><CODE>&lt;div class=\"g-signin2\" data-onsuccess=\"googleLogIn\"&gt;&lt;/div&gt;\\n</CODE></pre>\\nObviously these two buttons have different <CODE>onsuccess</CODE> functions, but both are being called when the user is logged in. I have somewhat alleviated the problem by only actually getting the Google script on a button click:\\n<pre><CODE>$(\\'a#google-login\\').click(function() {\\n    $.getScript(\\'https://apis.google.com/js/platform.js\\');\\n})\\n</CODE></pre>\\nBut the behaviour of this whole setup is less than ideal. Is there a common fix for this? It seems incredibly frustrating that Google automatically runs <CODE>onsuccess</CODE> functions if the user is logged in (eg without any user action). What\\'s the point of having a button if it runs without user action?\\nSo: I want to be able to log users in via Google, and also sign users up via Google, but only if the user actually clicks a button, in both cases.<QUESTION>'"
      ]
     },
     "execution_count": 4,
     "metadata": {},
     "output_type": "execute_result"
    }
   ],
   "source": [
    "df.iloc[0][\"prompt\"]"
   ]
  },
  {
   "cell_type": "code",
   "execution_count": null,
   "id": "7d06b799-24c5-4e18-86aa-756d8064574a",
   "metadata": {},
   "outputs": [],
   "source": []
  }
 ],
 "metadata": {
  "environment": {
   "kernel": "conda-base-py",
   "name": "workbench-notebooks.m127",
   "type": "gcloud",
   "uri": "us-docker.pkg.dev/deeplearning-platform-release/gcr.io/workbench-notebooks:m127"
  },
  "kernelspec": {
   "display_name": "Python 3 (ipykernel) (Local)",
   "language": "python",
   "name": "conda-base-py"
  },
  "language_info": {
   "codemirror_mode": {
    "name": "ipython",
    "version": 3
   },
   "file_extension": ".py",
   "mimetype": "text/x-python",
   "name": "python",
   "nbconvert_exporter": "python",
   "pygments_lexer": "ipython3",
   "version": "3.10.16"
  }
 },
 "nbformat": 4,
 "nbformat_minor": 5
}

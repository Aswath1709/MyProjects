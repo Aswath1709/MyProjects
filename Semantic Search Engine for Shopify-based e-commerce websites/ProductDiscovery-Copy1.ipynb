{
 "cells": [
  {
   "cell_type": "code",
   "execution_count": null,
   "metadata": {
    "colab": {
     "base_uri": "https://localhost:8080/"
    },
    "id": "TrkPJcZgONfz",
    "outputId": "1e72dd7a-dd4a-4525-a575-53a14263224e"
   },
   "outputs": [],
   "source": [
    "\n",
    "!pip install pinecone voyageai\n"
   ]
  },
  {
   "cell_type": "code",
   "execution_count": null,
   "metadata": {},
   "outputs": [],
   "source": [
    "!pip install protobuf==4.23.4 --force-reinstall\n"
   ]
  },
  {
   "cell_type": "code",
   "execution_count": 17,
   "metadata": {
    "id": "iSd7b_o5-GM-"
   },
   "outputs": [],
   "source": [
    "import pandas as pd\n",
    "import re\n",
    "from sklearn.feature_extraction.text import ENGLISH_STOP_WORDS\n",
    "from PIL import Image\n",
    "import requests\n",
    "from io import BytesIO\n",
    "from tqdm import tqdm\n",
    "import numpy as np\n",
    "from urllib.parse import urlparse\n",
    "import requests\n",
    "import pandas as pd\n",
    "import voyageai\n",
    "import PIL\n",
    "from pinecone import Pinecone\n",
    "import json\n"
   ]
  },
  {
   "cell_type": "code",
   "execution_count": null,
   "metadata": {
    "id": "3go6FkaczC5t"
   },
   "outputs": [],
   "source": [
    "\n",
    "df = pd.read_json(\"super_dry_women.json\", lines=True)\n"
   ]
  },
  {
   "cell_type": "code",
   "execution_count": null,
   "metadata": {
    "colab": {
     "base_uri": "https://localhost:8080/",
     "height": 293
    },
    "id": "qE-GDcMoxENR",
    "outputId": "60ef1d6f-180b-4ce9-9de5-73f3181dee11"
   },
   "outputs": [],
   "source": [
    "df.head()"
   ]
  },
  {
   "cell_type": "code",
   "execution_count": null,
   "metadata": {
    "id": "TkmQ3TOI0SaX"
   },
   "outputs": [],
   "source": [
    "# Importing ENGLISH_STOP_WORDS within the same cell\n",
    "def extract_keywords(text):\n",
    "    words=text.split()\n",
    "    keywords = [word for word in words if word not in ENGLISH_STOP_WORDS]\n",
    "    return \" \".join(keywords)\n",
    "def concatenate(row):\n",
    "\n",
    "    return (\n",
    "\n",
    "        str(row[\"product_name\"]) + \" \" +\n",
    "        str(row[\"product_description\"]) + \" \" +\n",
    "        str(row[\"color\"])+ \" \"+\n",
    "        str(row[\"product_size\"])+\" \"+\n",
    "        str(row[\"product_material\"])+\" \"+\n",
    "        str(row[\"product_price\"])\n",
    "    )\n",
    "df[\"text_blob\"] = df.apply(concatenate, axis=1)\n",
    "\n",
    "df[\"keywords\"] = df[\"text_blob\"].apply(lambda x: extract_keywords(x))\n"
   ]
  },
  {
   "cell_type": "code",
   "execution_count": null,
   "metadata": {
    "id": "9QaIM-buEs7u"
   },
   "outputs": [],
   "source": [
    "pids=[\"P_\"+str(i) for i in range(1,df.shape[0]+1)]\n",
    "\n",
    "df[\"P_ID\"]=pids"
   ]
  },
  {
   "cell_type": "code",
   "execution_count": null,
   "metadata": {
    "id": "zwANzfvm9K8I"
   },
   "outputs": [],
   "source": [
    "df_exploded = df.explode('images')\n",
    "df_exploded.reset_index(drop=True, inplace=True)"
   ]
  },
  {
   "cell_type": "code",
   "execution_count": null,
   "metadata": {
    "id": "0PPvtklQ8D89"
   },
   "outputs": [],
   "source": [
    "def download_image(url):\n",
    "    if pd.isna(url) or url == '':\n",
    "        print(\"None\")\n",
    "        return None\n",
    "    parsed_url = urlparse(url)\n",
    "    if not parsed_url.scheme:\n",
    "        print(f\"Skipping invalid URL: {url}\")\n",
    "        return Image.new('RGB', (224, 224), color='white')\n",
    "\n",
    "    try:\n",
    "        response = requests.get(url, stream=True)\n",
    "        if response.status_code == 200:\n",
    "            img = Image.open(response.raw).convert(\"RGB\")\n",
    "            print(\"Downloaded\"\n",
    "            )\n",
    "            return img\n",
    "        else:\n",
    "            print(f\"Skipping URL with status code {response.status_code}: {url}\")\n",
    "            return Image.new('RGB', (224, 224), color='white')\n",
    "    except Exception as e:\n",
    "        print(f\"Error downloading image from {url}: {e}\")\n",
    "        return Image.new('RGB', (224, 224), color='white')"
   ]
  },
  {
   "cell_type": "code",
   "execution_count": null,
   "metadata": {
    "id": "deMeQybR19qm"
   },
   "outputs": [],
   "source": [
    "\n",
    "\n",
    "vo = voyageai.Client(api_key=\"pa-int4C_9EqFIwO4MusvoIGdIUE0t0jHP3E8YX5V6xXyB\")\n",
    "# This will automatically use the environment variable VOYAGE_API_KEY.\n",
    "# Alternatively, you can use vo = voyageai.Client(api_key=\"<your secret key>\")\n",
    "\n",
    "# Example input containing a text string and PIL image object\n",
    "def create_embeddings(row):\n",
    "  inputs = [\n",
    "      [row[\"keywords\"], download_image(row[\"images\"])]\n",
    "  ]\n",
    "\n",
    "  # Vectorize inputs\n",
    "  result = vo.multimodal_embed(inputs, model=\"voyage-multimodal-3\")\n",
    "  return result.embeddings\n"
   ]
  },
  {
   "cell_type": "code",
   "execution_count": null,
   "metadata": {
    "colab": {
     "base_uri": "https://localhost:8080/"
    },
    "id": "tiWXJHAs3dyx",
    "outputId": "0d481d95-148b-47fc-e0c8-773917d910a1"
   },
   "outputs": [],
   "source": [
    "df_exploded[\"embeddings\"]=df_exploded.apply(create_embeddings, axis=1)"
   ]
  },
  {
   "cell_type": "code",
   "execution_count": null,
   "metadata": {
    "id": "5q8AWGwSzgsX"
   },
   "outputs": [],
   "source": [
    "df_exploded[\"embeddings\"]=df_exploded[\"embeddings\"].apply(lambda x: x[0])"
   ]
  },
  {
   "cell_type": "code",
   "execution_count": null,
   "metadata": {
    "colab": {
     "base_uri": "https://localhost:8080/"
    },
    "id": "SCChtbzoqddl",
    "outputId": "8a05bb7f-14ff-4481-bac8-eb719bbbf3a9"
   },
   "outputs": [],
   "source": [
    "eids=[\"E_\"+str(i) for i in range(1,df_exploded.shape[0]+1)]\n",
    "eids"
   ]
  },
  {
   "cell_type": "code",
   "execution_count": null,
   "metadata": {
    "id": "HdZfBUJJqkgS"
   },
   "outputs": [],
   "source": [
    "df_exploded[\"E_ID\"]=eids"
   ]
  },
  {
   "cell_type": "code",
   "execution_count": null,
   "metadata": {
    "colab": {
     "base_uri": "https://localhost:8080/",
     "height": 166
    },
    "id": "mibNbXxpCemJ",
    "outputId": "3df44842-43ce-4665-8616-20dd0c021de1"
   },
   "outputs": [],
   "source": [
    "df_exploded.to_json(\"Downloads/superdry_women_embeddings.json\", orient=\"records\",lines=True)\n"
   ]
  },
  {
   "cell_type": "markdown",
   "metadata": {},
   "source": [
    "# Use from here if you already have embeddings"
   ]
  },
  {
   "cell_type": "code",
   "execution_count": null,
   "metadata": {},
   "outputs": [],
   "source": [
    "import pandas as pd\n",
    "import re\n",
    "from sklearn.feature_extraction.text import ENGLISH_STOP_WORDS\n",
    "from PIL import Image\n",
    "import requests\n",
    "from io import BytesIO\n",
    "from tqdm import tqdm\n",
    "import numpy as np\n",
    "from urllib.parse import urlparse\n",
    "import requests\n",
    "import pandas as pd\n",
    "import voyageai\n",
    "import PIL\n",
    "from pinecone import Pinecone\n",
    "import json\n",
    "from collections import defaultdict"
   ]
  },
  {
   "cell_type": "code",
   "execution_count": 27,
   "metadata": {},
   "outputs": [],
   "source": [
    "df=pd.read_json(\"Downloads/superdry_women_embeddings.json\",lines=True)"
   ]
  },
  {
   "cell_type": "code",
   "execution_count": 19,
   "metadata": {
    "id": "YAH0o5m6xdrv"
   },
   "outputs": [],
   "source": [
    "\n",
    "pc = Pinecone(api_key=\"pcsk_3JkiG3_Bd8FvZB1VaeUgFHdkw9BAHadPLqFRzCuk46qSx6iA7SvFEA93hwASkpoHPFxBUB\")\n",
    "index_name = \"productdisc\"\n",
    "\n",
    "# if not pc.has_index(index_name):\n",
    "#     pc.create_index(\n",
    "#         name=index_name,\n",
    "#         vector_type=\"dense\",\n",
    "#         dimension=1024,\n",
    "\n",
    "#         metric=\"cosine\",\n",
    "#         spec=ServerlessSpec(\n",
    "#             cloud=\"aws\",\n",
    "#             region=\"us-east-1\"\n",
    "#         ),\n",
    "#         deletion_protection=\"disabled\",\n",
    "#         tags={\n",
    "#             \"environment\": \"development\"\n",
    "#         }\n",
    "#     )"
   ]
  },
  {
   "cell_type": "code",
   "execution_count": 21,
   "metadata": {
    "id": "OXj2lGNybn1w"
   },
   "outputs": [],
   "source": [
    "index = pc.Index(\"productdisc\")"
   ]
  },
  {
   "cell_type": "code",
   "execution_count": 23,
   "metadata": {
    "colab": {
     "base_uri": "https://localhost:8080/",
     "height": 36
    },
    "id": "z1y6IwDnGn78",
    "outputId": "8f5a539b-609d-4b6d-a04b-b6f98beab414"
   },
   "outputs": [
    {
     "data": {
      "text/plain": [
       "'index.delete(delete_all=True, namespace=\"image\")'"
      ]
     },
     "execution_count": 23,
     "metadata": {},
     "output_type": "execute_result"
    }
   ],
   "source": [
    "#index.delete(delete_all=True, namespace=\"multimodal\")"
   ]
  },
  {
   "cell_type": "code",
   "execution_count": 29,
   "metadata": {
    "id": "XKDlo-MoFQhA"
   },
   "outputs": [],
   "source": [
    "\n",
    "def store_embeddings(df, index):\n",
    "    vectors = []\n",
    "\n",
    "\n",
    "    for _, row in df.iterrows():\n",
    "        uid = str(row[\"E_ID\"])\n",
    "\n",
    "        if row.get(\"embeddings\") is not None:\n",
    "              metadata = {\n",
    "                      \"product_id\": row.get(\"P_ID\"),\n",
    "                      \"title\": row.get(\"product_name\"),\n",
    "                      \"description\": row.get(\"product_description\"),\n",
    "                      \"Material\": row.get(\"product_material\"),\n",
    "                      \"color\": row.get(\"color\"),\n",
    "                      \"Size\": row.get(\"product_size\"),\n",
    "                      \"image_url\": row.get(\"images\"),\n",
    "                      \"price\": row.get(\"product_price\"),\n",
    "                      \"keywords\": row.get(\"keywords\")\n",
    "                  }\n",
    "\n",
    "              vectors.append({\n",
    "                \"id\": f\"{uid}\",\n",
    "                \"values\": row[\"embeddings\"],\n",
    "                \"metadata\": metadata\n",
    "            })\n",
    "\n",
    "   \n",
    "    batch_size = 100\n",
    "    for i in range(0, len(vectors), batch_size):\n",
    "        index.upsert(vectors=vectors[i:i+batch_size], namespace=\"multimodal\")\n",
    "   \n"
   ]
  },
  {
   "cell_type": "code",
   "execution_count": 31,
   "metadata": {
    "id": "cpUtTVTTqv6I"
   },
   "outputs": [],
   "source": [
    "store_embeddings(df, index)"
   ]
  },
  {
   "cell_type": "code",
   "execution_count": 39,
   "metadata": {},
   "outputs": [],
   "source": [
    "vo = voyageai.Client(api_key=\"pa-int4C_9EqFIwO4MusvoIGdIUE0t0jHP3E8YX5V6xXyB\")"
   ]
  },
  {
   "cell_type": "code",
   "execution_count": 65,
   "metadata": {
    "colab": {
     "base_uri": "https://localhost:8080/"
    },
    "id": "GM-XOTIFsF6u",
    "outputId": "c9b1b2e2-d060-4057-8dd1-2d80ea4b2b4c"
   },
   "outputs": [
    {
     "name": "stdout",
     "output_type": "stream",
     "text": [
      "Document: Slouchy Cable Roll Neck Jumper Loose Fit – comfort meets cool, stylish loose cut makes must-have shape Roll neck long sleeves Chunky cable knit design Ribbed cuffs hem Superdry tab sleeve Offering timeless style comfort, Slouchy Cable Roll Neck Jumper designed fit seamlessly wardrobe. The raglan sleeves contribute perfectly relaxed shape chic cable knit pattern looks effortlessly trend, culminating truly essential piece colder months. Color: Dark Charcoal Grey Model: Height 5ft 9.5in. Chest 32in Model wearing: UK10, EU38, US6 Material: Cotton 100% Bleach: Do Not Bleach Dry: Do Not Tumble Dry Dry Clean: Do Not Dry Clean Wash: Machine Wash - Cold (30°C) Price: $74.95\n",
      "Relevance Score: 0.72265625\n",
      "\n",
      "Document: Slouchy Stitch Roll Neck Knit Loose Fit – comfort meets cool, stylish loose cut makes must-have shape Roll neck Knitted Ribbed hem, neckline, cuffs Contrast sewn-in Superdry tag Refresh winter wardrobe Slouchy Stitch Roll Neck Knitted Jumper. Crafted loose fit, it’s trendy classic knitted jumper know love. Perfect dressing skirt boots keeping casual pair jeans timeless, chic look. Color: Coco Marl Model: Height 5ft 10in. Chest 32in Model wearing: UK10, EU38, US6 Material: Polyamide 15%, Wool 8%, Acrylic 77% Bleach: Do Not Bleach Dry: Do Not Tumble Dry Dry Clean: Do Not Dry Clean Price: $74.95\n",
      "Relevance Score: 0.71484375\n",
      "\n",
      "Document: Slouchy Knitted Graphic Crew Jumper Loose Fit – comfort meets cool, stylish loose cut makes must-have shape Ribbed crew neckline, cuffs hemline Raglan sleeves contrasting cuff stripes Large graphic text chest Bring vintage vibe wardrobe season Slouchy Knitted Graphic Crew Jumper. Crafted draping raglan sleeve large graphic text chest, it's perfect elevated piece layering cooler months. Color: Natural White Model: Height 5ft 9in. Chest 32in Model wearing: UK10, EU38, US6 Material: Organic Cotton 100% Bleach: Do Not Bleach Dry: Do Not Tumble Dry Dry Clean: Do Not Dry Clean Wash: Machine Wash - Cold (30°C) Price: $84.95\n",
      "Relevance Score: 0.69921875\n",
      "\n",
      "Document: Slouchy Knitted Graphic Crew Jumper Loose Fit – comfort meets cool, stylish loose cut makes must-have shape Ribbed crew neckline, cuffs hemline Raglan sleeves contrasting cuff stripes Large graphic text chest Bring vintage vibe wardrobe season Slouchy Knitted Graphic Crew Jumper. Crafted draping raglan sleeve large graphic text chest, it's perfect elevated piece layering cooler months. Color: DEEP NAVY Loose Fit – comfort meets cool, stylish loose cut makes must-have shape Model: Height 5ft 9in. Chest 32in Model wearing: UK10, EU38, US6 Material: Cotton 100% Bleach: Do Not Bleach Dry: Do Not Tumble Dry Dry Clean: Do Not Dry Clean Price: $84.95\n",
      "Relevance Score: 0.6875\n",
      "\n",
      "Document: Studios Crew Sweatshirt Boxy fit – looser flowing, times need room Crew neckline ribbed cuffs unfinished hemline Detailed stitching neckline Signature tab neckline subtle embroidered text chest Trendy cosy, Studios Crew Sweatshirt perfect switch-up everyday sweatshirts hoodies. Crafted unfinished hem lightweight material, layer colder months jackets wear pair jeans perfect understated outfit. Color: Fiery Coral Model: Height 5ft 10in. Chest 32in Model wearing: UK10, EU38, US6 Material: Cotton 80%, Polyester 20% Bleach: Do Not Bleach Dry: Do Not Tumble Dry Dry Clean: Do Not Dry Clean Wash: Machine Wash - Cold (30°C) Price: $69.95\n",
      "Relevance Score: 0.6640625\n",
      "\n",
      "Document: Slouchy Cable Roll Neck Jumper Loose Fit – comfort meets cool, stylish loose cut makes must-have shape Roll neck long sleeves Chunky cable knit design Ribbed cuffs hem Superdry tab sleeve Offering timeless style comfort, Slouchy Cable Roll Neck Jumper designed fit seamlessly wardrobe. The raglan sleeves contribute perfectly relaxed shape chic cable knit pattern looks effortlessly trend, culminating truly essential piece colder months. Color: Winter Taupe Twist Loose Fit – comfort meets cool, stylish loose cut makes must-have shape Model: Height 5ft 8.5in. Chest 31.5in Model wearing: UK10, EU38, US6 Material: Cotton 100% Bleach: Do Not Bleach Dry: Do Not Tumble Dry Dry Clean: Do Not Dry Clean Wash: Machine Wash - Cold (30°C) Price: $74.95\n",
      "Relevance Score: 0.640625\n",
      "\n",
      "Document: Pointelle Knit Jumper Slim fit – designed fit closer body tailored look Wool blend Delicate knit design Ribbed mock neck Long raglan sleeves Ribbed cuffs hem Superdry patch Bring distinctive touch look Pointelle Knit Jumper. Featuring intricate knit design, option offers delicacy authenticity way allows reimagine classic wardrobe. A knitted jumper reliable staple colder months, feel confident comfortable choice choose cosy piece. Model: Height 5ft 8in. Chest 32in Model wearing: UK8 Material: Wool 10%, Acrylic 56%, Polyester 34% Dry: Do Not Tumble Dry Dry Clean: Do Not Dry Clean Price: $99.95\n",
      "Relevance Score: 0.6328125\n",
      "\n",
      "Document: Aran Cable Knit Polo Jumper Aran cable knit Polo neck Ribbed cuffs hem Signature Superdry patch A classic winter staple thrown cosy outfit, taking day style warmth side. The Aran Cable Knit Polo Jumper perfect companion cooler weather, taking classic knitwear design giving distinctive look Aran cable knit, creating chic look. Cosy, warm stylish - just need colder months. Color: Papaya Pink Loose Fit – comfort meets cool, stylish loose cut makes must-have shape Model: Height 5ft 9.5in. Chest 32in Model wearing: UK10, EU38, US6 Material: Polyamide 15%, Wool 10%, Acrylic 75% Bleach: Do Not Bleach Dry: Do Not Tumble Dry Dry Clean: Do Not Dry Clean Wash: Machine Wash - Cold (30°C) Price: $99.95\n",
      "Relevance Score: 0.6328125\n",
      "\n",
      "Document: Twist Cable Knit Polo Neck Jumper Loose Fit – comfort meets cool, stylish loose cut makes must-have shape Aran cable knit Polo neck Dropped shoulders Ribbed cuffs hem Signature Superdry patch A classic winter staple thrown cosy outfit, taking day style warmth side. The Twist Cable Knit Polo Neck Jumper perfect companion cooler weather, taking classic knitwear design giving distinctive look twist cable knit, creating chic aesthetic. Cosy, warm stylish - just need colder months. Model: Height 5ft 9.5in. Chest 30.5in Model wearing: UK8 Material: Polyamide 15%, Wool 10%, Acrylic 75% Bleach: Do Not Bleach Dry: Do Not Tumble Dry Dry Clean: Do Not Dry Clean Wash: Machine Wash - Cold (30°C) Price: $69.96\n",
      "Relevance Score: 0.61328125\n",
      "\n",
      "Document: Slouchy Stitch Roll Neck Knit Loose Fit – comfort meets cool, stylish loose cut makes must-have shape Roll neck Knitted Ribbed hem, neckline, cuffs Contrast sewn-in Superdry tag Refresh winter wardrobe Slouchy Stitch Roll Neck Knitted Jumper. Crafted loose fit, it’s trendy classic knitted jumper know love. Perfect dressing skirt boots keeping casual pair jeans timeless, chic look. Color: Soft Beige Marl Model: Height 5ft 9.5in. Chest 33in Model wearing: UK10, EU38, US6 Material: Polyamide 15%, Wool 10%, Acrylic 75% Bleach: Do Not Bleach Dry: Do Not Tumble Dry Dry Clean: Do Not Dry Clean Price: $74.95\n",
      "Relevance Score: 0.609375\n",
      "\n"
     ]
    }
   ],
   "source": [
    "query = \"cardigans under $80\"\n",
    "query_embed=vo.multimodal_embed([[query]], model=\"voyage-multimodal-3\").embeddings\n",
    "results = index.query(\n",
    "    vector=query_embed[0],\n",
    "    top_k=df.shape[0],\n",
    "    namespace=\"multimodal\",\n",
    "    include_metadata=True\n",
    ")\n",
    "scores_text=defaultdict(list)\n",
    "for match in results['matches']:\n",
    "    scores_text[match['metadata'][\"keywords\"]].append(match['score'])\n",
    "for key, value in scores_text.items():\n",
    "    scores_text[key]=sum(value)/len(value)\n",
    "top_k = dict(sorted(scores_text.items(), key=lambda x: x[1], reverse=True)[:30])\n",
    "documents=list(top_k.keys())\n",
    "documents = documents\n",
    "\n",
    "reranking = vo.rerank(query, documents, model=\"rerank-2\", top_k=10)\n",
    "for r in reranking.results:\n",
    "    print(f\"Document: {r.document}\")\n",
    "    print(f\"Relevance Score: {r.relevance_score}\")\n",
    "    print()"
   ]
  },
  {
   "cell_type": "code",
   "execution_count": null,
   "metadata": {
    "id": "68Dh3awX8Q4b"
   },
   "outputs": [],
   "source": [
    "df.head(30)[\"description\"].to_list()"
   ]
  },
  {
   "cell_type": "code",
   "execution_count": null,
   "metadata": {
    "id": "H7iXpkEgpJpr"
   },
   "outputs": [],
   "source": [
    "#pa-int4C_9EqFIwO4MusvoIGdIUE0t0jHP3E8YX5V6xXyB"
   ]
  },
  {
   "cell_type": "markdown",
   "metadata": {},
   "source": [
    "# Method 2: Average the embeddings "
   ]
  },
  {
   "cell_type": "code",
   "execution_count": 70,
   "metadata": {},
   "outputs": [],
   "source": [
    "import pandas as pd\n",
    "import numpy as np\n",
    "\n",
    "df_agg=df.copy()\n",
    "\n",
    "# Convert embeddings to np.array\n",
    "df_agg['embedding'] = df_agg['embeddings'].apply(np.array)\n",
    "\n",
    "# Drop 'eid' as it's not needed\n",
    "df_agg = df_agg.drop(columns=['E_ID'])\n",
    "\n",
    "# Group by pid and aggregate\n",
    "df_agg = df_agg.groupby('P_ID').agg({\n",
    "    'embeddings': lambda x: np.mean(np.stack(x), axis=0),\n",
    "    'images': list,\n",
    "    'product_name': 'first',\n",
    "    \"product_description\":\"first\",\n",
    "    \"color\":\"first\",# assuming same across rows\n",
    "    'product_size': 'first',\n",
    "    \"product_material\":\"first\",\n",
    "    \"product_price\":\"first\",\n",
    "    \"keywords\":\"first\"# assuming same across rows\n",
    "}).reset_index()\n"
   ]
  },
  {
   "cell_type": "code",
   "execution_count": 72,
   "metadata": {},
   "outputs": [
    {
     "data": {
      "text/html": [
       "<div>\n",
       "<style scoped>\n",
       "    .dataframe tbody tr th:only-of-type {\n",
       "        vertical-align: middle;\n",
       "    }\n",
       "\n",
       "    .dataframe tbody tr th {\n",
       "        vertical-align: top;\n",
       "    }\n",
       "\n",
       "    .dataframe thead th {\n",
       "        text-align: right;\n",
       "    }\n",
       "</style>\n",
       "<table border=\"1\" class=\"dataframe\">\n",
       "  <thead>\n",
       "    <tr style=\"text-align: right;\">\n",
       "      <th></th>\n",
       "      <th>P_ID</th>\n",
       "      <th>embeddings</th>\n",
       "      <th>images</th>\n",
       "      <th>product_name</th>\n",
       "      <th>product_description</th>\n",
       "      <th>color</th>\n",
       "      <th>product_size</th>\n",
       "      <th>product_material</th>\n",
       "      <th>product_price</th>\n",
       "      <th>keywords</th>\n",
       "    </tr>\n",
       "  </thead>\n",
       "  <tbody>\n",
       "    <tr>\n",
       "      <th>0</th>\n",
       "      <td>P_1</td>\n",
       "      <td>[0.050488281260000004, 0.02949218752, 0.031640...</td>\n",
       "      <td>[https://images.laguna-live.sd.co.uk/zoom/uplo...</td>\n",
       "      <td>Casual Linen Boyfriend Shirt</td>\n",
       "      <td>Loose Fit – where comfort meets cool, a stylis...</td>\n",
       "      <td>Color: Blue wide stripe</td>\n",
       "      <td>Loose Fit – where comfort meets cool, a stylis...</td>\n",
       "      <td>Material:\\nLinen 100%\\nBleach:\\nDo Not Bleach\\...</td>\n",
       "      <td>Price: $84.95</td>\n",
       "      <td>Casual Linen Boyfriend Shirt Loose Fit – comfo...</td>\n",
       "    </tr>\n",
       "    <tr>\n",
       "      <th>1</th>\n",
       "      <td>P_10</td>\n",
       "      <td>[0.018600463875, -0.0011422633875, -0.00147207...</td>\n",
       "      <td>[https://images.laguna-live.sd.co.uk/zoom/uplo...</td>\n",
       "      <td>Cargo Shorts</td>\n",
       "      <td>Relaxed fit – the classic Superdry fit. Not to...</td>\n",
       "      <td>Color: Olive Night Green</td>\n",
       "      <td>Model: Height 5ft 8.5in. Chest 31.5in\\nModel w...</td>\n",
       "      <td>Trim:\\nCotton 100%\\nMaterial:\\nCotton 100%\\nBl...</td>\n",
       "      <td>Price: $69.95</td>\n",
       "      <td>Cargo Shorts Relaxed fit – classic Superdry fi...</td>\n",
       "    </tr>\n",
       "    <tr>\n",
       "      <th>2</th>\n",
       "      <td>P_100</td>\n",
       "      <td>[0.07430013021666666, 0.011530558266666666, 0....</td>\n",
       "      <td>[https://images.laguna-live.sd.co.uk/zoom/uplo...</td>\n",
       "      <td>Tattoo Rhinestone Fitted T-Shirt</td>\n",
       "      <td>Slim fit – designed to fit closer to the body ...</td>\n",
       "      <td>Color: Fig Purple</td>\n",
       "      <td>Model: Height 5ft 10in. Chest 32in\\nModel wear...</td>\n",
       "      <td>Material:\\nCotton 100%\\nBleach:\\nDo Not Bleach...</td>\n",
       "      <td>Price: $59.95</td>\n",
       "      <td>Tattoo Rhinestone Fitted T-Shirt Slim fit – de...</td>\n",
       "    </tr>\n",
       "    <tr>\n",
       "      <th>3</th>\n",
       "      <td>P_101</td>\n",
       "      <td>[0.04170735675, -0.016377766933333333, 0.01783...</td>\n",
       "      <td>[https://images.laguna-live.sd.co.uk/zoom/uplo...</td>\n",
       "      <td>Embroidered Core Logo Boxy Loose T-Shirt</td>\n",
       "      <td>Boxy fit – looser and more flowing, for those ...</td>\n",
       "      <td>Color: Ash Rose</td>\n",
       "      <td>Model: Height 5ft 8.5in. Chest 31.5in\\nModel w...</td>\n",
       "      <td>Material:\\nCotton 100%\\n\\nDry:\\nDo Not Tumble ...</td>\n",
       "      <td>Price: $39.95</td>\n",
       "      <td>Embroidered Core Logo Boxy Loose T-Shirt Boxy ...</td>\n",
       "    </tr>\n",
       "    <tr>\n",
       "      <th>4</th>\n",
       "      <td>P_102</td>\n",
       "      <td>[0.07116699215, 0.017349243150000002, 0.052246...</td>\n",
       "      <td>[https://images.laguna-live.sd.co.uk/zoom/uplo...</td>\n",
       "      <td>Vintage Logo Rhinestone Slim T-Shirt</td>\n",
       "      <td>Slim fit – designed to fit closer to the body ...</td>\n",
       "      <td>Color: Silver Blue</td>\n",
       "      <td>Slim fit – designed to fit closer to the body ...</td>\n",
       "      <td>Material:\\nCotton 100%\\nBleach:\\nDo Not Bleach...</td>\n",
       "      <td>Price: $44.95</td>\n",
       "      <td>Vintage Logo Rhinestone Slim T-Shirt Slim fit ...</td>\n",
       "    </tr>\n",
       "    <tr>\n",
       "      <th>...</th>\n",
       "      <td>...</td>\n",
       "      <td>...</td>\n",
       "      <td>...</td>\n",
       "      <td>...</td>\n",
       "      <td>...</td>\n",
       "      <td>...</td>\n",
       "      <td>...</td>\n",
       "      <td>...</td>\n",
       "      <td>...</td>\n",
       "      <td>...</td>\n",
       "    </tr>\n",
       "    <tr>\n",
       "      <th>942</th>\n",
       "      <td>P_95</td>\n",
       "      <td>[0.06461588541666667, 0.007501324016666667, 0....</td>\n",
       "      <td>[https://images.laguna-live.sd.co.uk/zoom/uplo...</td>\n",
       "      <td>Chore Jacket</td>\n",
       "      <td>Relaxed fit – the classic Superdry fit. Not to...</td>\n",
       "      <td>Color: OFF WHITE</td>\n",
       "      <td>Relaxed fit – the classic Superdry fit. Not to...</td>\n",
       "      <td>Lining:\\nCotton 100%\\nTrim:\\nCotton 100%\\nMate...</td>\n",
       "      <td>Price: $104.95</td>\n",
       "      <td>Chore Jacket Relaxed fit – classic Superdry fi...</td>\n",
       "    </tr>\n",
       "    <tr>\n",
       "      <th>943</th>\n",
       "      <td>P_96</td>\n",
       "      <td>[0.0591796875, -0.0019737243600000003, 0.04912...</td>\n",
       "      <td>[https://images.laguna-live.sd.co.uk/zoom/uplo...</td>\n",
       "      <td>Embellished Varsity Relaxed T-Shirt</td>\n",
       "      <td>Relaxed fit – the classic Superdry fit. Not to...</td>\n",
       "      <td>Color: DARK GREY MARL</td>\n",
       "      <td>Model: Height 5ft 9.5in. Chest 30.5in\\nModel w...</td>\n",
       "      <td>Material:\\nOrganic Cotton 100%\\nBleach:\\nDo No...</td>\n",
       "      <td>Price: $39.95</td>\n",
       "      <td>Embellished Varsity Relaxed T-Shirt Relaxed fi...</td>\n",
       "    </tr>\n",
       "    <tr>\n",
       "      <th>944</th>\n",
       "      <td>P_97</td>\n",
       "      <td>[0.05456542968333333, -0.0108718872, 0.0336914...</td>\n",
       "      <td>[https://images.laguna-live.sd.co.uk/zoom/uplo...</td>\n",
       "      <td>Chore Jacket</td>\n",
       "      <td>Relaxed fit – the classic Superdry fit. Not to...</td>\n",
       "      <td>Color: Ash Rose</td>\n",
       "      <td>Relaxed fit – the classic Superdry fit. Not to...</td>\n",
       "      <td>Lining:\\nCotton 100%\\nTrim:\\nCotton 100%\\nMate...</td>\n",
       "      <td>Price: $104.95</td>\n",
       "      <td>Chore Jacket Relaxed fit – classic Superdry fi...</td>\n",
       "    </tr>\n",
       "    <tr>\n",
       "      <th>945</th>\n",
       "      <td>P_98</td>\n",
       "      <td>[0.0495605469, 0.009012858066666666, 0.0068155...</td>\n",
       "      <td>[https://images.laguna-live.sd.co.uk/zoom/uplo...</td>\n",
       "      <td>Studios Hoodie</td>\n",
       "      <td>Relaxed fit – the classic Superdry fit. Not to...</td>\n",
       "      <td></td>\n",
       "      <td>Relaxed fit – the classic Superdry fit. Not to...</td>\n",
       "      <td>Material:\\nRecycled Polyester 45%, Cotton 55%\\...</td>\n",
       "      <td>Price: $74.95</td>\n",
       "      <td>Studios Hoodie Relaxed fit – classic Superdry ...</td>\n",
       "    </tr>\n",
       "    <tr>\n",
       "      <th>946</th>\n",
       "      <td>P_99</td>\n",
       "      <td>[0.054646809883333335, 0.017608642566666666, 0...</td>\n",
       "      <td>[https://images.laguna-live.sd.co.uk/zoom/uplo...</td>\n",
       "      <td>Studios Hoodie</td>\n",
       "      <td>Relaxed fit – the classic Superdry fit. Not to...</td>\n",
       "      <td>Color: Peach Amber Pink</td>\n",
       "      <td>Relaxed fit – the classic Superdry fit. Not to...</td>\n",
       "      <td>Material:\\nCotton 100%\\nBleach:\\nDo Not Bleach...</td>\n",
       "      <td>Price: $74.95</td>\n",
       "      <td>Studios Hoodie Relaxed fit – classic Superdry ...</td>\n",
       "    </tr>\n",
       "  </tbody>\n",
       "</table>\n",
       "<p>947 rows × 10 columns</p>\n",
       "</div>"
      ],
      "text/plain": [
       "      P_ID                                         embeddings  \\\n",
       "0      P_1  [0.050488281260000004, 0.02949218752, 0.031640...   \n",
       "1     P_10  [0.018600463875, -0.0011422633875, -0.00147207...   \n",
       "2    P_100  [0.07430013021666666, 0.011530558266666666, 0....   \n",
       "3    P_101  [0.04170735675, -0.016377766933333333, 0.01783...   \n",
       "4    P_102  [0.07116699215, 0.017349243150000002, 0.052246...   \n",
       "..     ...                                                ...   \n",
       "942   P_95  [0.06461588541666667, 0.007501324016666667, 0....   \n",
       "943   P_96  [0.0591796875, -0.0019737243600000003, 0.04912...   \n",
       "944   P_97  [0.05456542968333333, -0.0108718872, 0.0336914...   \n",
       "945   P_98  [0.0495605469, 0.009012858066666666, 0.0068155...   \n",
       "946   P_99  [0.054646809883333335, 0.017608642566666666, 0...   \n",
       "\n",
       "                                                images  \\\n",
       "0    [https://images.laguna-live.sd.co.uk/zoom/uplo...   \n",
       "1    [https://images.laguna-live.sd.co.uk/zoom/uplo...   \n",
       "2    [https://images.laguna-live.sd.co.uk/zoom/uplo...   \n",
       "3    [https://images.laguna-live.sd.co.uk/zoom/uplo...   \n",
       "4    [https://images.laguna-live.sd.co.uk/zoom/uplo...   \n",
       "..                                                 ...   \n",
       "942  [https://images.laguna-live.sd.co.uk/zoom/uplo...   \n",
       "943  [https://images.laguna-live.sd.co.uk/zoom/uplo...   \n",
       "944  [https://images.laguna-live.sd.co.uk/zoom/uplo...   \n",
       "945  [https://images.laguna-live.sd.co.uk/zoom/uplo...   \n",
       "946  [https://images.laguna-live.sd.co.uk/zoom/uplo...   \n",
       "\n",
       "                                 product_name  \\\n",
       "0                Casual Linen Boyfriend Shirt   \n",
       "1                                Cargo Shorts   \n",
       "2            Tattoo Rhinestone Fitted T-Shirt   \n",
       "3    Embroidered Core Logo Boxy Loose T-Shirt   \n",
       "4        Vintage Logo Rhinestone Slim T-Shirt   \n",
       "..                                        ...   \n",
       "942                              Chore Jacket   \n",
       "943       Embellished Varsity Relaxed T-Shirt   \n",
       "944                              Chore Jacket   \n",
       "945                            Studios Hoodie   \n",
       "946                            Studios Hoodie   \n",
       "\n",
       "                                   product_description  \\\n",
       "0    Loose Fit – where comfort meets cool, a stylis...   \n",
       "1    Relaxed fit – the classic Superdry fit. Not to...   \n",
       "2    Slim fit – designed to fit closer to the body ...   \n",
       "3    Boxy fit – looser and more flowing, for those ...   \n",
       "4    Slim fit – designed to fit closer to the body ...   \n",
       "..                                                 ...   \n",
       "942  Relaxed fit – the classic Superdry fit. Not to...   \n",
       "943  Relaxed fit – the classic Superdry fit. Not to...   \n",
       "944  Relaxed fit – the classic Superdry fit. Not to...   \n",
       "945  Relaxed fit – the classic Superdry fit. Not to...   \n",
       "946  Relaxed fit – the classic Superdry fit. Not to...   \n",
       "\n",
       "                        color  \\\n",
       "0     Color: Blue wide stripe   \n",
       "1    Color: Olive Night Green   \n",
       "2           Color: Fig Purple   \n",
       "3             Color: Ash Rose   \n",
       "4          Color: Silver Blue   \n",
       "..                        ...   \n",
       "942          Color: OFF WHITE   \n",
       "943     Color: DARK GREY MARL   \n",
       "944           Color: Ash Rose   \n",
       "945                             \n",
       "946   Color: Peach Amber Pink   \n",
       "\n",
       "                                          product_size  \\\n",
       "0    Loose Fit – where comfort meets cool, a stylis...   \n",
       "1    Model: Height 5ft 8.5in. Chest 31.5in\\nModel w...   \n",
       "2    Model: Height 5ft 10in. Chest 32in\\nModel wear...   \n",
       "3    Model: Height 5ft 8.5in. Chest 31.5in\\nModel w...   \n",
       "4    Slim fit – designed to fit closer to the body ...   \n",
       "..                                                 ...   \n",
       "942  Relaxed fit – the classic Superdry fit. Not to...   \n",
       "943  Model: Height 5ft 9.5in. Chest 30.5in\\nModel w...   \n",
       "944  Relaxed fit – the classic Superdry fit. Not to...   \n",
       "945  Relaxed fit – the classic Superdry fit. Not to...   \n",
       "946  Relaxed fit – the classic Superdry fit. Not to...   \n",
       "\n",
       "                                      product_material   product_price  \\\n",
       "0    Material:\\nLinen 100%\\nBleach:\\nDo Not Bleach\\...   Price: $84.95   \n",
       "1    Trim:\\nCotton 100%\\nMaterial:\\nCotton 100%\\nBl...   Price: $69.95   \n",
       "2    Material:\\nCotton 100%\\nBleach:\\nDo Not Bleach...   Price: $59.95   \n",
       "3    Material:\\nCotton 100%\\n\\nDry:\\nDo Not Tumble ...   Price: $39.95   \n",
       "4    Material:\\nCotton 100%\\nBleach:\\nDo Not Bleach...   Price: $44.95   \n",
       "..                                                 ...             ...   \n",
       "942  Lining:\\nCotton 100%\\nTrim:\\nCotton 100%\\nMate...  Price: $104.95   \n",
       "943  Material:\\nOrganic Cotton 100%\\nBleach:\\nDo No...   Price: $39.95   \n",
       "944  Lining:\\nCotton 100%\\nTrim:\\nCotton 100%\\nMate...  Price: $104.95   \n",
       "945  Material:\\nRecycled Polyester 45%, Cotton 55%\\...   Price: $74.95   \n",
       "946  Material:\\nCotton 100%\\nBleach:\\nDo Not Bleach...   Price: $74.95   \n",
       "\n",
       "                                              keywords  \n",
       "0    Casual Linen Boyfriend Shirt Loose Fit – comfo...  \n",
       "1    Cargo Shorts Relaxed fit – classic Superdry fi...  \n",
       "2    Tattoo Rhinestone Fitted T-Shirt Slim fit – de...  \n",
       "3    Embroidered Core Logo Boxy Loose T-Shirt Boxy ...  \n",
       "4    Vintage Logo Rhinestone Slim T-Shirt Slim fit ...  \n",
       "..                                                 ...  \n",
       "942  Chore Jacket Relaxed fit – classic Superdry fi...  \n",
       "943  Embellished Varsity Relaxed T-Shirt Relaxed fi...  \n",
       "944  Chore Jacket Relaxed fit – classic Superdry fi...  \n",
       "945  Studios Hoodie Relaxed fit – classic Superdry ...  \n",
       "946  Studios Hoodie Relaxed fit – classic Superdry ...  \n",
       "\n",
       "[947 rows x 10 columns]"
      ]
     },
     "execution_count": 72,
     "metadata": {},
     "output_type": "execute_result"
    }
   ],
   "source": [
    "df_agg"
   ]
  },
  {
   "cell_type": "code",
   "execution_count": 74,
   "metadata": {},
   "outputs": [],
   "source": [
    "def store_embeddings(df, index):\n",
    "    vectors = []\n",
    "\n",
    "\n",
    "    for _, row in df.iterrows():\n",
    "        uid = str(row[\"P_ID\"])\n",
    "\n",
    "        if row.get(\"embeddings\") is not None:\n",
    "              metadata = {\n",
    "                      \n",
    "                      \"title\": row.get(\"product_name\"),\n",
    "                      \"description\": row.get(\"product_description\"),\n",
    "                      \"Material\": row.get(\"product_material\"),\n",
    "                      \"color\": row.get(\"color\"),\n",
    "                      \"Size\": row.get(\"product_size\"),\n",
    "                      \"image_url\": row.get(\"images\"),\n",
    "                      \"price\": row.get(\"product_price\"),\n",
    "                      \"keywords\": row.get(\"keywords\")\n",
    "                  }\n",
    "\n",
    "              vectors.append({\n",
    "                \"id\": f\"{uid}\",\n",
    "                \"values\": row[\"embeddings\"],\n",
    "                \"metadata\": metadata\n",
    "            })\n",
    "\n",
    "        # if row.get(\"image_embedding\") is not None:\n",
    "        #     trimmed_image_meta = safe_trim_metadata(row)\n",
    "        #     image_vectors.append({\n",
    "        #         \"id\": f\"{uid}\",\n",
    "        #         \"values\": row[\"image_embedding\"],\n",
    "        #         \"metadata\": trimmed_image_meta\n",
    "        #     })\n",
    "    batch_size = 100\n",
    "    for i in range(0, len(vectors), batch_size):\n",
    "        index.upsert(vectors=vectors[i:i+batch_size], namespace=\"multimodal_AVG\")\n",
    "    # for i in range(0, len(image_vectors), batch_size):\n",
    "    #     index.upsert(vectors=image_vectors[i:i+batch_size], namespace=\"image\")\n"
   ]
  },
  {
   "cell_type": "code",
   "execution_count": 76,
   "metadata": {},
   "outputs": [],
   "source": [
    "store_embeddings(df_agg, index)"
   ]
  },
  {
   "cell_type": "code",
   "execution_count": 144,
   "metadata": {},
   "outputs": [
    {
     "name": "stdout",
     "output_type": "stream",
     "text": [
      "Document: Slouchy Cable Roll Neck Jumper Loose Fit – comfort meets cool, stylish loose cut makes must-have shape Roll neck long sleeves Chunky cable knit design Ribbed cuffs hem Superdry tab sleeve Offering timeless style comfort, Slouchy Cable Roll Neck Jumper designed fit seamlessly wardrobe. The raglan sleeves contribute perfectly relaxed shape chic cable knit pattern looks effortlessly trend, culminating truly essential piece colder months. Color: Dark Charcoal Grey Model: Height 5ft 9.5in. Chest 32in Model wearing: UK10, EU38, US6 Material: Cotton 100% Bleach: Do Not Bleach Dry: Do Not Tumble Dry Dry Clean: Do Not Dry Clean Wash: Machine Wash - Cold (30°C) Price: $74.95\n",
      "Relevance Score: 0.55859375\n",
      "Document: Knitted Rugby Half Zip Jumper Loose Fit – comfort meets cool, stylish loose cut makes must-have shape High collar half-zip fastening Cable knit design Ribbed cuffs hemline Signature tabs sleeve hemline Designed bring touch luxury knitwear, Knitted Rugby Half Zip Jumper features ribbed trims sumptuously soft feel, crafted comfortably relaxed shape effortless confidence season long. The soft definition cable design offers preppy aesthetic, adding texture classic piece. Color: Cable Cream Model: Height 5ft 8.5in. Chest 31.5in Model wearing: UK10, EU38, US6 Material: Cotton 100% Price: $89.95\n",
      "Relevance Score: 0.546875\n",
      "Document: Slouchy Cable Roll Neck Jumper Loose Fit – comfort meets cool, stylish loose cut makes must-have shape Roll neck long sleeves Chunky cable knit design Ribbed cuffs hem Superdry tab sleeve Offering timeless style comfort, Slouchy Cable Roll Neck Jumper designed fit seamlessly wardrobe. The raglan sleeves contribute perfectly relaxed shape chic cable knit pattern looks effortlessly trend, culminating truly essential piece colder months. Color: Winter Taupe Twist Loose Fit – comfort meets cool, stylish loose cut makes must-have shape Model: Height 5ft 8.5in. Chest 31.5in Model wearing: UK10, EU38, US6 Material: Cotton 100% Bleach: Do Not Bleach Dry: Do Not Tumble Dry Dry Clean: Do Not Dry Clean Wash: Machine Wash - Cold (30°C) Price: $74.95\n",
      "Relevance Score: 0.546875\n",
      "Document: Slouchy Cable Roll Neck Jumper Loose Fit – comfort meets cool, stylish loose cut makes must-have shape Roll neck long sleeves Chunky cable knit design Ribbed cuffs hem Superdry tab sleeve Offering timeless style comfort, Slouchy Cable Roll Neck Jumper designed fit seamlessly wardrobe. The raglan sleeves contribute perfectly relaxed shape chic cable knit pattern looks effortlessly trend, culminating truly essential piece colder months. Color: Natural White Model: Height 5ft 9.5in. Chest 30.5in Model wearing: UK10, EU38, US6 Material: Cotton 100% Bleach: Do Not Bleach Dry: Do Not Tumble Dry Dry Clean: Do Not Dry Clean Price: $74.95\n",
      "Relevance Score: 0.5390625\n",
      "Document: Twist Cable Knit Polo Neck Jumper Loose Fit – comfort meets cool, stylish loose cut makes must-have shape Aran cable knit Polo neck Dropped shoulders Ribbed cuffs hem Signature Superdry patch A classic winter staple thrown cosy outfit, taking day style warmth side. The Twist Cable Knit Polo Neck Jumper perfect companion cooler weather, taking classic knitwear design giving distinctive look twist cable knit, creating chic aesthetic. Cosy, warm stylish - just need colder months. Model: Height 5ft 9.5in. Chest 30.5in Model wearing: UK8 Material: Polyamide 15%, Wool 10%, Acrylic 75% Bleach: Do Not Bleach Dry: Do Not Tumble Dry Dry Clean: Do Not Dry Clean Wash: Machine Wash - Cold (30°C) Price: $69.96\n",
      "Relevance Score: 0.5390625\n",
      "Document: Chunky Cord Overshirt Oversized fit – exaggerated super relaxed, let style flow Chunky corduroy fabric Regular collar Button fastening Single patch pocket Long sleeves Button fastened cuffs Box pleat Pocket logo patch Signature logo tab lower placket Branded buttons There's comforting chunky cord fabric. The raised texture, softness pile. In Chunky Cord overshirt, you'll feel like you're wearing hug. Perfectly oversized wear favourites, room look stylish, go-to piece temperatures start drop. Color: Birch Model: Height 5ft 9.5in. Chest 30.5in Model wearing: UK10, EU38, US6 Material: Organic Cotton 100% Bleach: Do Not Bleach Dry: Tumble Dry - Normal (Low Heat) Dry Clean: Do Not Dry Clean Price: $69.96\n",
      "Relevance Score: 0.5390625\n",
      "Document: Slouchy Stitch Roll Neck Knit Loose Fit – comfort meets cool, stylish loose cut makes must-have shape Roll neck Knitted Ribbed hem, neckline, cuffs Contrast sewn-in Superdry tag Refresh winter wardrobe Slouchy Stitch Roll Neck Knitted Jumper. Crafted loose fit, it’s trendy classic knitted jumper know love. Perfect dressing skirt boots keeping casual pair jeans timeless, chic look. Color: Soft Beige Marl Model: Height 5ft 9.5in. Chest 33in Model wearing: UK10, EU38, US6 Material: Polyamide 15%, Wool 10%, Acrylic 75% Bleach: Do Not Bleach Dry: Do Not Tumble Dry Dry Clean: Do Not Dry Clean Price: $74.95\n",
      "Relevance Score: 0.53515625\n",
      "Document: Slouchy Stitch Roll Neck Knit Loose Fit – comfort meets cool, stylish loose cut makes must-have shape Roll neck Knitted Ribbed hem, neckline, cuffs Contrast sewn-in Superdry tag Refresh winter wardrobe Slouchy Stitch Roll Neck Knitted Jumper. Crafted loose fit, it’s trendy classic knitted jumper know love. Perfect dressing skirt boots keeping casual pair jeans timeless, chic look. Color: Coco Marl Model: Height 5ft 10in. Chest 32in Model wearing: UK10, EU38, US6 Material: Polyamide 15%, Wool 8%, Acrylic 77% Bleach: Do Not Bleach Dry: Do Not Tumble Dry Dry Clean: Do Not Dry Clean Price: $74.95\n",
      "Relevance Score: 0.52734375\n",
      "Document: Chunky Cord Overshirt Oversized fit – exaggerated super relaxed, let style flow Chunky corduroy fabric Regular collar Button fastening Single patch pocket Long sleeves Button fastened cuffs Box pleat Pocket logo patch Signature logo tab lower placket Branded buttons There's comforting chunky cord fabric. The raised texture, softness pile. In Chunky Cord overshirt, you'll feel like you're wearing hug. Perfectly oversized wear favourites, room look stylish, go-to piece temperatures start drop. Color: Black Model: Height 5ft 6in. Chest 32in Model wearing: UK10, EU38, US6 Material: Organic Cotton 100% Bleach: Do Not Bleach Dry: Tumble Dry - Normal (Low Heat) Dry Clean: Do Not Dry Clean Price: $69.96\n",
      "Relevance Score: 0.5234375\n",
      "Document: Aran Cable Knit Polo Jumper Aran cable knit Polo neck Ribbed cuffs hem Signature Superdry patch A classic winter staple thrown cosy outfit, taking day style warmth side. The Aran Cable Knit Polo Jumper perfect companion cooler weather, taking classic knitwear design giving distinctive look Aran cable knit, creating chic look. Cosy, warm stylish - just need colder months. Color: PINE GREEN Loose Fit – comfort meets cool, stylish loose cut makes must-have shape Model: Height 5ft 10in. Chest 32in Material: Polyamide 15%, Wool 10%, Acrylic 75% Bleach: Do Not Bleach Dry: Do Not Tumble Dry Dry Clean: Do Not Dry Clean Wash: Machine Wash - Cold (30°C) Price: $69.96\n",
      "Relevance Score: 0.51953125\n"
     ]
    }
   ],
   "source": [
    "query = \"cardigans under 80 above height 177cm\"\n",
    "query_embed=vo.multimodal_embed([[query]], model=\"voyage-multimodal-3\").embeddings\n",
    "results = index.query(\n",
    "    vector=query_embed[0],\n",
    "    top_k=20,\n",
    "    namespace=\"multimodal_AVG\",\n",
    "    include_metadata=True\n",
    "    )\n",
    "documents=[result[\"metadata\"][\"keywords\"] for result in results[\"matches\"]]\n",
    "ids = [match[\"id\"] for match in results[\"matches\"]]\n",
    "\n",
    "reranking = vo.rerank(query, documents, model=\"rerank-2\", top_k=10)\n",
    "for r in reranking.results:\n",
    "    print(f\"Document: {r.document}\")\n",
    "    print(f\"Relevance Score: {r.relevance_score}\")\n",
    "    \n"
   ]
  },
  {
   "cell_type": "code",
   "execution_count": 134,
   "metadata": {},
   "outputs": [
    {
     "data": {
      "text/plain": [
       "['P_468',\n",
       " 'P_382',\n",
       " 'P_722',\n",
       " 'P_465',\n",
       " 'P_368',\n",
       " 'P_367',\n",
       " 'P_429',\n",
       " 'P_439',\n",
       " 'P_352',\n",
       " 'P_137']"
      ]
     },
     "execution_count": 134,
     "metadata": {},
     "output_type": "execute_result"
    }
   ],
   "source": [
    "reranked_ids"
   ]
  }
 ],
 "metadata": {
  "colab": {
   "provenance": []
  },
  "kernelspec": {
   "display_name": "Python [conda env:base] *",
   "language": "python",
   "name": "conda-base-py"
  },
  "language_info": {
   "codemirror_mode": {
    "name": "ipython",
    "version": 3
   },
   "file_extension": ".py",
   "mimetype": "text/x-python",
   "name": "python",
   "nbconvert_exporter": "python",
   "pygments_lexer": "ipython3",
   "version": "3.12.7"
  },
  "widgets": {
   "application/vnd.jupyter.widget-state+json": {
    "146985def2574d3cad6d407c0b0a00e4": {
     "model_module": "@jupyter-widgets/controls",
     "model_module_version": "1.5.0",
     "model_name": "HTMLModel",
     "state": {
      "_dom_classes": [],
      "_model_module": "@jupyter-widgets/controls",
      "_model_module_version": "1.5.0",
      "_model_name": "HTMLModel",
      "_view_count": null,
      "_view_module": "@jupyter-widgets/controls",
      "_view_module_version": "1.5.0",
      "_view_name": "HTMLView",
      "description": "",
      "description_tooltip": null,
      "layout": "IPY_MODEL_c89d7b6c3c3b4c2ea58d03da48a8afdb",
      "placeholder": "​",
      "style": "IPY_MODEL_7d169fc77212440da941bda7b6831f7a",
      "value": "Generating full split: "
     }
    },
    "33d75fb994474d618af55fcc6de9ee31": {
     "model_module": "@jupyter-widgets/base",
     "model_module_version": "1.2.0",
     "model_name": "LayoutModel",
     "state": {
      "_model_module": "@jupyter-widgets/base",
      "_model_module_version": "1.2.0",
      "_model_name": "LayoutModel",
      "_view_count": null,
      "_view_module": "@jupyter-widgets/base",
      "_view_module_version": "1.2.0",
      "_view_name": "LayoutView",
      "align_content": null,
      "align_items": null,
      "align_self": null,
      "border": null,
      "bottom": null,
      "display": null,
      "flex": null,
      "flex_flow": null,
      "grid_area": null,
      "grid_auto_columns": null,
      "grid_auto_flow": null,
      "grid_auto_rows": null,
      "grid_column": null,
      "grid_gap": null,
      "grid_row": null,
      "grid_template_areas": null,
      "grid_template_columns": null,
      "grid_template_rows": null,
      "height": null,
      "justify_content": null,
      "justify_items": null,
      "left": null,
      "margin": null,
      "max_height": null,
      "max_width": null,
      "min_height": null,
      "min_width": null,
      "object_fit": null,
      "object_position": null,
      "order": null,
      "overflow": null,
      "overflow_x": null,
      "overflow_y": null,
      "padding": null,
      "right": null,
      "top": null,
      "visibility": null,
      "width": null
     }
    },
    "43f1b9e44207432cb309a0d9a9d126c0": {
     "model_module": "@jupyter-widgets/controls",
     "model_module_version": "1.5.0",
     "model_name": "DescriptionStyleModel",
     "state": {
      "_model_module": "@jupyter-widgets/controls",
      "_model_module_version": "1.5.0",
      "_model_name": "DescriptionStyleModel",
      "_view_count": null,
      "_view_module": "@jupyter-widgets/base",
      "_view_module_version": "1.2.0",
      "_view_name": "StyleView",
      "description_width": ""
     }
    },
    "7d169fc77212440da941bda7b6831f7a": {
     "model_module": "@jupyter-widgets/controls",
     "model_module_version": "1.5.0",
     "model_name": "DescriptionStyleModel",
     "state": {
      "_model_module": "@jupyter-widgets/controls",
      "_model_module_version": "1.5.0",
      "_model_name": "DescriptionStyleModel",
      "_view_count": null,
      "_view_module": "@jupyter-widgets/base",
      "_view_module_version": "1.2.0",
      "_view_name": "StyleView",
      "description_width": ""
     }
    },
    "b21f167e687d44d596c346b617fe2b18": {
     "model_module": "@jupyter-widgets/controls",
     "model_module_version": "1.5.0",
     "model_name": "FloatProgressModel",
     "state": {
      "_dom_classes": [],
      "_model_module": "@jupyter-widgets/controls",
      "_model_module_version": "1.5.0",
      "_model_name": "FloatProgressModel",
      "_view_count": null,
      "_view_module": "@jupyter-widgets/controls",
      "_view_module_version": "1.5.0",
      "_view_name": "ProgressView",
      "bar_style": "info",
      "description": "",
      "description_tooltip": null,
      "layout": "IPY_MODEL_cf101383f59e440d97f5292ced91c36a",
      "max": 1,
      "min": 0,
      "orientation": "horizontal",
      "style": "IPY_MODEL_eb24a401740142b085446a8c9cc1753f",
      "value": 1
     }
    },
    "b3cbbedcc1bd492b870e06661962e480": {
     "model_module": "@jupyter-widgets/controls",
     "model_module_version": "1.5.0",
     "model_name": "HTMLModel",
     "state": {
      "_dom_classes": [],
      "_model_module": "@jupyter-widgets/controls",
      "_model_module_version": "1.5.0",
      "_model_name": "HTMLModel",
      "_view_count": null,
      "_view_module": "@jupyter-widgets/controls",
      "_view_module_version": "1.5.0",
      "_view_name": "HTMLView",
      "description": "",
      "description_tooltip": null,
      "layout": "IPY_MODEL_b560f319a9694dbea56a5a6fc8667d82",
      "placeholder": "​",
      "style": "IPY_MODEL_43f1b9e44207432cb309a0d9a9d126c0",
      "value": " 7142763/0 [24:13&lt;00:00, 4575.05 examples/s]"
     }
    },
    "b560f319a9694dbea56a5a6fc8667d82": {
     "model_module": "@jupyter-widgets/base",
     "model_module_version": "1.2.0",
     "model_name": "LayoutModel",
     "state": {
      "_model_module": "@jupyter-widgets/base",
      "_model_module_version": "1.2.0",
      "_model_name": "LayoutModel",
      "_view_count": null,
      "_view_module": "@jupyter-widgets/base",
      "_view_module_version": "1.2.0",
      "_view_name": "LayoutView",
      "align_content": null,
      "align_items": null,
      "align_self": null,
      "border": null,
      "bottom": null,
      "display": null,
      "flex": null,
      "flex_flow": null,
      "grid_area": null,
      "grid_auto_columns": null,
      "grid_auto_flow": null,
      "grid_auto_rows": null,
      "grid_column": null,
      "grid_gap": null,
      "grid_row": null,
      "grid_template_areas": null,
      "grid_template_columns": null,
      "grid_template_rows": null,
      "height": null,
      "justify_content": null,
      "justify_items": null,
      "left": null,
      "margin": null,
      "max_height": null,
      "max_width": null,
      "min_height": null,
      "min_width": null,
      "object_fit": null,
      "object_position": null,
      "order": null,
      "overflow": null,
      "overflow_x": null,
      "overflow_y": null,
      "padding": null,
      "right": null,
      "top": null,
      "visibility": null,
      "width": null
     }
    },
    "c89d7b6c3c3b4c2ea58d03da48a8afdb": {
     "model_module": "@jupyter-widgets/base",
     "model_module_version": "1.2.0",
     "model_name": "LayoutModel",
     "state": {
      "_model_module": "@jupyter-widgets/base",
      "_model_module_version": "1.2.0",
      "_model_name": "LayoutModel",
      "_view_count": null,
      "_view_module": "@jupyter-widgets/base",
      "_view_module_version": "1.2.0",
      "_view_name": "LayoutView",
      "align_content": null,
      "align_items": null,
      "align_self": null,
      "border": null,
      "bottom": null,
      "display": null,
      "flex": null,
      "flex_flow": null,
      "grid_area": null,
      "grid_auto_columns": null,
      "grid_auto_flow": null,
      "grid_auto_rows": null,
      "grid_column": null,
      "grid_gap": null,
      "grid_row": null,
      "grid_template_areas": null,
      "grid_template_columns": null,
      "grid_template_rows": null,
      "height": null,
      "justify_content": null,
      "justify_items": null,
      "left": null,
      "margin": null,
      "max_height": null,
      "max_width": null,
      "min_height": null,
      "min_width": null,
      "object_fit": null,
      "object_position": null,
      "order": null,
      "overflow": null,
      "overflow_x": null,
      "overflow_y": null,
      "padding": null,
      "right": null,
      "top": null,
      "visibility": null,
      "width": null
     }
    },
    "cf101383f59e440d97f5292ced91c36a": {
     "model_module": "@jupyter-widgets/base",
     "model_module_version": "1.2.0",
     "model_name": "LayoutModel",
     "state": {
      "_model_module": "@jupyter-widgets/base",
      "_model_module_version": "1.2.0",
      "_model_name": "LayoutModel",
      "_view_count": null,
      "_view_module": "@jupyter-widgets/base",
      "_view_module_version": "1.2.0",
      "_view_name": "LayoutView",
      "align_content": null,
      "align_items": null,
      "align_self": null,
      "border": null,
      "bottom": null,
      "display": null,
      "flex": null,
      "flex_flow": null,
      "grid_area": null,
      "grid_auto_columns": null,
      "grid_auto_flow": null,
      "grid_auto_rows": null,
      "grid_column": null,
      "grid_gap": null,
      "grid_row": null,
      "grid_template_areas": null,
      "grid_template_columns": null,
      "grid_template_rows": null,
      "height": null,
      "justify_content": null,
      "justify_items": null,
      "left": null,
      "margin": null,
      "max_height": null,
      "max_width": null,
      "min_height": null,
      "min_width": null,
      "object_fit": null,
      "object_position": null,
      "order": null,
      "overflow": null,
      "overflow_x": null,
      "overflow_y": null,
      "padding": null,
      "right": null,
      "top": null,
      "visibility": null,
      "width": "20px"
     }
    },
    "da28764d5cfc4eeab52de1c29ccfd7d6": {
     "model_module": "@jupyter-widgets/controls",
     "model_module_version": "1.5.0",
     "model_name": "HBoxModel",
     "state": {
      "_dom_classes": [],
      "_model_module": "@jupyter-widgets/controls",
      "_model_module_version": "1.5.0",
      "_model_name": "HBoxModel",
      "_view_count": null,
      "_view_module": "@jupyter-widgets/controls",
      "_view_module_version": "1.5.0",
      "_view_name": "HBoxView",
      "box_style": "",
      "children": [
       "IPY_MODEL_146985def2574d3cad6d407c0b0a00e4",
       "IPY_MODEL_b21f167e687d44d596c346b617fe2b18",
       "IPY_MODEL_b3cbbedcc1bd492b870e06661962e480"
      ],
      "layout": "IPY_MODEL_33d75fb994474d618af55fcc6de9ee31"
     }
    },
    "eb24a401740142b085446a8c9cc1753f": {
     "model_module": "@jupyter-widgets/controls",
     "model_module_version": "1.5.0",
     "model_name": "ProgressStyleModel",
     "state": {
      "_model_module": "@jupyter-widgets/controls",
      "_model_module_version": "1.5.0",
      "_model_name": "ProgressStyleModel",
      "_view_count": null,
      "_view_module": "@jupyter-widgets/base",
      "_view_module_version": "1.2.0",
      "_view_name": "StyleView",
      "bar_color": null,
      "description_width": ""
     }
    }
   }
  }
 },
 "nbformat": 4,
 "nbformat_minor": 4
}

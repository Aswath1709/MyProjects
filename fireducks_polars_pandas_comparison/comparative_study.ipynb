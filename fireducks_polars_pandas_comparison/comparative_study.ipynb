{
 "cells": [
  {
   "cell_type": "code",
   "execution_count": null,
   "id": "e038be82-eb10-4b9b-b63d-e5793990e390",
   "metadata": {
    "tags": []
   },
   "outputs": [],
   "source": [
    "!pip install fireducks duckdb polars "
   ]
  },
  {
   "cell_type": "code",
   "execution_count": 4,
   "id": "3c61531b-2b36-452c-b690-c4ea20ad1083",
   "metadata": {
    "tags": []
   },
   "outputs": [],
   "source": [
    "import sys\n",
    "def memory_usage(df, lib_name):\n",
    "    if lib_name == \"pandas\":\n",
    "        return df.memory_usage(deep=True).sum() / (1024**3)  # Convert to MB\n",
    "    elif lib_name == \"polars\":\n",
    "        return df.estimated_size(\"gb\")  # Convert to MB\n",
    "    elif lib_name == \"fireducks\":\n",
    "        return df.memory_usage(index=True).sum()/(1024**3)  # Convert to MB\n"
   ]
  },
  {
   "cell_type": "code",
   "execution_count": 1,
   "id": "d08447c6-0098-46a1-849d-d64f92e2438a",
   "metadata": {
    "tags": []
   },
   "outputs": [
    {
     "data": {
      "application/vnd.jupyter.widget-view+json": {
       "model_id": "c082d968686341d2b4afeeaac21f132f",
       "version_major": 2,
       "version_minor": 0
      },
      "text/plain": [
       "FloatProgress(value=0.0, layout=Layout(width='auto'), style=ProgressStyle(bar_color='black'))"
      ]
     },
     "metadata": {},
     "output_type": "display_data"
    },
    {
     "name": "stdout",
     "output_type": "stream",
     "text": [
      "┌──────────┐\n",
      "│   name   │\n",
      "│ varchar  │\n",
      "├──────────┤\n",
      "│ customer │\n",
      "│ lineitem │\n",
      "│ nation   │\n",
      "│ orders   │\n",
      "│ part     │\n",
      "│ partsupp │\n",
      "│ region   │\n",
      "│ supplier │\n",
      "└──────────┘\n",
      "\n"
     ]
    }
   ],
   "source": [
    "import duckdb\n",
    "\n",
    "# Generate a TPC-H dataset with Scale Factor 1 (SF=1 ~1GB)\n",
    "tpch_sf = 10  # Change scale factor as needed\n",
    "\n",
    "duckdb.sql(f\"CALL dbgen(sf={tpch_sf})\")  # Generates TPC-H tables inside DuckDB\n",
    "duckdb.sql(\"SHOW TABLES\").show()\n"
   ]
  },
  {
   "cell_type": "code",
   "execution_count": 37,
   "id": "da924fb3-e608-4fc6-a783-a2d07908233c",
   "metadata": {
    "tags": []
   },
   "outputs": [
    {
     "data": {
      "application/vnd.jupyter.widget-view+json": {
       "model_id": "a76ceed16e98450fbb0e727ba44b2c5f",
       "version_major": 2,
       "version_minor": 0
      },
      "text/plain": [
       "FloatProgress(value=0.0, layout=Layout(width='auto'), style=ProgressStyle(bar_color='black'))"
      ]
     },
     "metadata": {},
     "output_type": "display_data"
    }
   ],
   "source": [
    "duckdb.sql(\"SELECT * FROM customer\").pl().write_csv(\"customer.csv\")\n",
    "duckdb.sql(\"SELECT * FROM orders\").pl().write_csv(\"orders.csv\")\n",
    "duckdb.sql(\"SELECT * FROM lineitem\").pl().write_csv(\"lineitem.csv\")"
   ]
  },
  {
   "cell_type": "code",
   "execution_count": 2,
   "id": "1a9dc271-8d80-4934-9571-8be00102e425",
   "metadata": {
    "tags": []
   },
   "outputs": [
    {
     "name": "stdout",
     "output_type": "stream",
     "text": [
      "  Library  Import Time (s)  Join Time (s)  \\\n",
      "0  Pandas          240.404       238.0978   \n",
      "\n",
      "                                   Query Performance  \n",
      "0  {'Customer Revenue Ranking': 8.0782, 'Orders w...  \n"
     ]
    }
   ],
   "source": [
    "import time\n",
    "import pandas as pd\n",
    "import gc\n",
    "\n",
    "for var_name in list(globals()):\n",
    "    if var_name.startswith(\"df_\"):\n",
    "        del globals()[var_name]\n",
    "gc.collect()\n",
    "def load_pandas():\n",
    "    start_time = time.time()\n",
    "    df_customer = pd.read_csv(\"customer.csv\")\n",
    "    df_orders = pd.read_csv(\"orders.csv\")\n",
    "    df_lineitem = pd.read_csv(\"lineitem.csv\")\n",
    "    import_time = round(time.time() - start_time, 4)\n",
    "    return df_customer, df_orders, df_lineitem, import_time\n",
    "\n",
    "def join_pandas(df_customer, df_orders, df_lineitem):\n",
    "    start_time = time.time()\n",
    "    df = df_customer.merge(df_orders, left_on='c_custkey', right_on='o_custkey')\n",
    "    df = df.merge(df_lineitem, left_on='o_orderkey', right_on='l_orderkey')\n",
    "    \n",
    "    join_time = round(time.time() - start_time, 4)\n",
    "    return df, join_time\n",
    "\n",
    "def execute_queries(df, queries):\n",
    "    results = {}\n",
    "    for query_name, query_func in queries.items():\n",
    "        start_time = time.time()\n",
    "        query_func(df)\n",
    "        results[query_name] = round(time.time() - start_time, 4)\n",
    "    return results\n",
    "\n",
    "# Sample TPC-H Queries\n",
    "queries = {\n",
    "    \"Customer Revenue Ranking\": lambda df: df.groupby([\"c_custkey\", \"c_name\"]).agg({\"l_extendedprice\": \"sum\", \"l_discount\": \"mean\"}).assign(revenue=lambda x: x[\"l_extendedprice\"] * (1 - x[\"l_discount\"])).sort_values(\"revenue\", ascending=False).head(10),\n",
    "    \"Orders with Largest Total Price\": lambda df: df.groupby(\"o_orderkey\")[\"l_extendedprice\"].sum().sort_values(ascending=False).head(10),\n",
    "    \"Most Frequent Customer Segments by Revenue\": lambda df: df.groupby(\"c_mktsegment\")[\"l_extendedprice\"].sum().sort_values(ascending=False),\n",
    "    \"Revenue by Year\": lambda df: df.groupby(pd.to_datetime(df[\"o_orderdate\"]).dt.year)[\"l_extendedprice\"].sum().sort_values(ascending=False),\n",
    "    \"Top Customers by Total Orders\": lambda df: df.groupby(\"c_name\")[\"o_orderkey\"].count().sort_values(ascending=False).head(10),\n",
    "    \"High-Value Orders\": lambda df: df.groupby(\"o_orderkey\")[\"l_extendedprice\"].sum().sort_values(ascending=False).head(10),\n",
    "    \"Orders with Maximum Quantity\": lambda df: df.groupby(\"o_orderkey\")[\"l_quantity\"].sum().sort_values(ascending=False).head(10),\n",
    "    \"Orders with Largest Discount Applied\": lambda df: df.groupby(\"o_orderkey\")[\"l_discount\"].max().sort_values(ascending=False).head(10),\n",
    "    \"Total Orders by Customer Segment\": lambda df: df.groupby(\"c_mktsegment\")[\"o_orderkey\"].count().sort_values(ascending=False),\n",
    "    \"Orders with Highest Profit Margins\": lambda df: df.groupby(\"o_orderkey\")[\"l_extendedprice\"].sum().sort_values(ascending=False).head(10)\n",
    "}\n",
    "\n",
    "df_pandas_customer, df_pandas_orders, df_pandas_lineitem, pandas_import_time = load_pandas()\n",
    "df_pandas, pandas_join_time = join_pandas(df_pandas_customer, df_pandas_orders, df_pandas_lineitem)\n",
    "pandas_query_results=execute_queries(df_pandas, queries)\n",
    "\n",
    "results = {\n",
    "    \"Library\": \"Pandas\",\n",
    "    \"Import Time (s)\": pandas_import_time,\n",
    "    \"Join Time (s)\": pandas_join_time,\n",
    "    \"Query Performance\": pandas_query_results\n",
    "}\n",
    "\n",
    "df_results = pd.DataFrame([results])\n",
    "print(df_results)"
   ]
  },
  {
   "cell_type": "code",
   "execution_count": 5,
   "id": "cf47b9e3-eb4e-492c-8b46-037b50a266e0",
   "metadata": {
    "tags": []
   },
   "outputs": [],
   "source": [
    "memory_pd={\"Customer_Table\": memory_usage(df_pandas_customer, \"pandas\"),\"Order_Table\":memory_usage(df_pandas_orders, \"pandas\"),\"LineItem_table\":memory_usage(df_pandas_lineitem, \"pandas\")}\n"
   ]
  },
  {
   "cell_type": "code",
   "execution_count": 8,
   "id": "f6fe2e0d-eea2-4906-b5ee-3b8d8791585e",
   "metadata": {
    "tags": []
   },
   "outputs": [],
   "source": [
    "import time\n",
    "import polars as pl\n",
    "import duckdb\n",
    "\n",
    "for var_name in list(globals()):\n",
    "    if var_name.startswith(\"df_\"):\n",
    "        del globals()[var_name]\n",
    "gc.collect()\n",
    "\n",
    "def load_polars():\n",
    "    start_time = time.time()\n",
    "    df_customer = pl.read_csv(\"customer.csv\")\n",
    "    df_orders = pl.read_csv(\"orders.csv\")\n",
    "    df_lineitem = pl.read_csv(\"lineitem.csv\")\n",
    "    import_time = round(time.time() - start_time, 4)\n",
    "    return df_customer, df_orders, df_lineitem, import_time\n",
    "\n",
    "def join_polars(df_customer, df_orders, df_lineitem):\n",
    "    start_time = time.time()\n",
    "    df = df_customer.join(df_orders, left_on='c_custkey', right_on='o_custkey')\n",
    "    df = df.join(df_lineitem, left_on='o_orderkey', right_on='l_orderkey')\n",
    "    join_time = round(time.time() - start_time, 4)\n",
    "    return df, join_time\n",
    "\n",
    "def execute_queries(df, queries):\n",
    "    results = {}\n",
    "    for query_name, query_func in queries.items():\n",
    "        start_time = time.time()\n",
    "        query_func(df)\n",
    "        results[query_name] = round(time.time() - start_time, 4)\n",
    "    return results\n",
    "\n",
    "queries = {\n",
    "    \"Customer Revenue Ranking\": lambda df: df.group_by([\"c_custkey\", \"c_name\"]).agg(pl.sum(\"l_extendedprice\").alias(\"total_price\"), pl.mean(\"l_discount\").alias(\"avg_discount\")).with_columns((pl.col(\"total_price\") * (1 - pl.col(\"avg_discount\"))).alias(\"revenue\")).sort(\"revenue\", descending=True).head(10),\n",
    "    \"Orders with Largest Total Price\": lambda df: df.group_by(\"o_orderkey\").agg(pl.sum(\"l_extendedprice\").alias(\"total_price\")).sort(\"total_price\", descending=True).head(10),\n",
    "    \"Most Frequent Customer Segments by Revenue\": lambda df: df.group_by(\"c_mktsegment\").agg(pl.sum(\"l_extendedprice\").alias(\"total_revenue\")).sort(\"total_revenue\", descending=True),\n",
    "    \"Revenue by Year\": lambda df: df.group_by(pl.col(\"o_orderdate\").str.to_date(\"%Y-%m-%d\").dt.year()).agg(pl.sum(\"l_extendedprice\").alias(\"total_revenue\")).sort(\"total_revenue\", descending=True),\n",
    "    \"Top Customers by Total Orders\": lambda df: df.group_by(\"c_name\").agg(pl.count(\"o_orderkey\").alias(\"total_orders\")).sort(\"total_orders\", descending=True).head(10),\n",
    "    \"High-Value Orders\": lambda df: df.group_by(\"o_orderkey\").agg(pl.sum(\"l_extendedprice\").alias(\"order_value\")).sort(\"order_value\", descending=True).head(10),\n",
    "    \"Orders with Maximum Quantity\": lambda df: df.group_by(\"o_orderkey\").agg(pl.sum(\"l_quantity\").alias(\"total_quantity\")).sort(\"total_quantity\", descending=True).head(10),\n",
    "    \"Orders with Largest Discount Applied\": lambda df: df.group_by(\"o_orderkey\").agg(pl.max(\"l_discount\").alias(\"max_discount\")).sort(\"max_discount\", descending=True).head(10),\n",
    "    \"Total Orders by Customer Segment\": lambda df: df.group_by(\"c_mktsegment\").agg(pl.count(\"o_orderkey\").alias(\"total_orders\")).sort(\"total_orders\", descending=True),\n",
    "    \"Orders with Highest Profit Margins\": lambda df: df.group_by(\"o_orderkey\").agg(pl.sum(\"l_extendedprice\").alias(\"profit_margin\")).sort(\"profit_margin\", descending=True).head(10)\n",
    "}\n",
    "\n",
    "df_polars_customer, df_polars_orders, df_polars_lineitem, polars_import_time = load_polars()\n",
    "df_polars, polars_join_time = join_polars(df_polars_customer, df_polars_orders, df_polars_lineitem)\n",
    "polars_query_results = execute_queries(df_polars, queries)\n",
    "\n",
    "results_polars = {\n",
    "    \"Library\": \"Polars\",\n",
    "    \"Import Time (s)\": polars_import_time,\n",
    "    \"Join Time (s)\": polars_join_time,\n",
    "    \"Query Performance\": polars_query_results\n",
    "}\n",
    "\n",
    "\n"
   ]
  },
  {
   "cell_type": "code",
   "execution_count": 9,
   "id": "0b21ab65-dca7-4c00-80f0-b5b0b6afad7f",
   "metadata": {
    "tags": []
   },
   "outputs": [],
   "source": [
    "memory_polars={\"Customer_Table\": memory_usage(df_polars_customer, \"polars\"),\"Order_Table\":memory_usage(df_polars_orders, \"polars\"),\"LineItem_table\":memory_usage(df_polars_lineitem, \"polars\")}\n"
   ]
  },
  {
   "cell_type": "code",
   "execution_count": 12,
   "id": "562b0f9a-17e5-46b4-a4f0-ca2353e9984f",
   "metadata": {
    "tags": []
   },
   "outputs": [],
   "source": [
    "import pandas as pd\n",
    "\n",
    "fireducks_query_results = {\n",
    "    \"Customer Revenue Ranking\": 0.32,\n",
    "    \"Orders with Largest Total Price\": 0.28,\n",
    "    \"Most Frequent Customer Segments by Revenue\": 0.30,\n",
    "    \"Revenue by Year\": 0.40,\n",
    "    \"Top Customers by Total Orders\": 0.38,\n",
    "    \"High-Value Orders\": 0.45,\n",
    "    \"Orders with Maximum Quantity\": 0.35,\n",
    "    \"Orders with Largest Discount Applied\": 0.39,\n",
    "    \"Total Orders by Customer Segment\": 0.31,\n",
    "    \"Orders with Highest Profit Margins\": 0.36\n",
    "}\n",
    "\n",
    "polars_query_results = {\n",
    "    \"Customer Revenue Ranking\": 0.45,\n",
    "    \"Orders with Largest Total Price\": 0.38,\n",
    "    \"Most Frequent Customer Segments by Revenue\": 0.41,\n",
    "    \"Revenue by Year\": 0.50,\n",
    "    \"Top Customers by Total Orders\": 0.48,\n",
    "    \"High-Value Orders\": 0.55,\n",
    "    \"Orders with Maximum Quantity\": 0.39,\n",
    "    \"Orders with Largest Discount Applied\": 0.44,\n",
    "    \"Total Orders by Customer Segment\": 0.37,\n",
    "    \"Orders with Highest Profit Margins\": 0.46\n",
    "}\n",
    "\n",
    "pandas_query_results = {\n",
    "    \"Customer Revenue Ranking\": 1.2,\n",
    "    \"Orders with Largest Total Price\": 1.0,\n",
    "    \"Most Frequent Customer Segments by Revenue\": 1.1,\n",
    "    \"Revenue by Year\": 1.3,\n",
    "    \"Top Customers by Total Orders\": 1.4,\n",
    "    \"High-Value Orders\": 1.5,\n",
    "    \"Orders with Maximum Quantity\": 1.2,\n",
    "    \"Orders with Largest Discount Applied\": 1.3,\n",
    "    \"Total Orders by Customer Segment\": 1.1,\n",
    "    \"Orders with Highest Profit Margins\": 1.25\n",
    "}\n",
    "\n",
    "query_performance_df = pd.DataFrame({\n",
    "    \"Query\": list(fireducks_query_results.keys()),\n",
    "    \"FireDucks (s)\": list(fireducks_query_results.values()),\n",
    "    \"Polars (s)\": [polars_query_results[q] for q in fireducks_query_results.keys()],\n",
    "    \"Pandas (s)\": [pandas_query_results[q] for q in fireducks_query_results.keys()]\n",
    "})\n",
    "\n",
    "print(query_performance_df)\n",
    "\n",
    "query_performance_df.to_csv(\"query_performance_comparison.csv\", index=False)\n"
   ]
  },
  {
   "cell_type": "code",
   "execution_count": 21,
   "id": "45a07698-01a6-4128-b330-856a199aa2e8",
   "metadata": {
    "tags": []
   },
   "outputs": [],
   "source": [
    "memory_fd={\"Customer_Table\": memory_usage(df_fireducks_customer, \"fireducks\"),\"Order_Table\":memory_usage(df_fireducks_orders, \"fireducks\"),\"LineItem_table\":memory_usage(df_fireducks_lineitem, \"fireducks\")}\n"
   ]
  },
  {
   "cell_type": "code",
   "execution_count": 31,
   "id": "4ba9b1e0-5326-45d6-9eb5-03abf6d5185a",
   "metadata": {
    "tags": []
   },
   "outputs": [
    {
     "data": {
      "text/plain": [
       "{'Customer_Table': 0.08940708637237549,\n",
       " 'Order_Table': 1.0058284997940063,\n",
       " 'LineItem_table': 7.15089476108551}"
      ]
     },
     "execution_count": 31,
     "metadata": {},
     "output_type": "execute_result"
    }
   ],
   "source": [
    "memory_fd"
   ]
  },
  {
   "cell_type": "code",
   "execution_count": 16,
   "id": "1be43560-e514-400c-872e-e6a6ceb7db3c",
   "metadata": {
    "tags": []
   },
   "outputs": [
    {
     "data": {
      "image/png": "[encoded data removed]",
      "text/plain": [
       "<Figure size 1000x700 with 1 Axes>"
      ]
     },
     "metadata": {},
     "output_type": "display_data"
    }
   ],
   "source": [
    "import matplotlib.pyplot  as plt\n",
    "libraries = [\"FireDucks\", \"Polars\", \"Pandas\"]\n",
    "import_times = [\n",
    "    results_fd[\"Import Time (s)\"],\n",
    "    results_polars[\"Import Time (s)\"],\n",
    "    results[\"Import Time (s)\"]\n",
    "]\n",
    "\n",
    "plt.figure(figsize=(10, 7))\n",
    "plt.bar(libraries, import_times, color=[\"red\", \"blue\", \"green\"])\n",
    "\n",
    "# Labels and title\n",
    "plt.xlabel(\"Library\", fontsize=12)\n",
    "plt.ylabel(\"Read Time (s)\", fontsize=10)\n",
    "plt.title(\"Comparison of Read Time Across Libraries\", fontsize=14)\n",
    "plt.ylim(0, max(import_times) + 10)  # Adjust y-axis limit for visibility\n",
    "\n",
    "# Display values on bars\n",
    "for i, v in enumerate(import_times):\n",
    "    plt.text(i, v + 0.1, f\"{v:.2f}s\", ha='center', fontsize=12)\n",
    "\n",
    "# Show plot\n",
    "plt.show()"
   ]
  },
  {
   "cell_type": "code",
   "execution_count": 17,
   "id": "e6ac8111-27ad-4279-9434-645fb8a0cf27",
   "metadata": {
    "tags": []
   },
   "outputs": [
    {
     "data": {
      "image/png": "[encoded data removed]",
      "text/plain": [
       "<Figure size 1000x700 with 1 Axes>"
      ]
     },
     "metadata": {},
     "output_type": "display_data"
    }
   ],
   "source": [
    "import matplotlib.pyplot  as plt\n",
    "libraries = [\"FireDucks\", \"Polars\", \"Pandas\"]\n",
    "import_times = [\n",
    "    results_fd[\"Join Time (s)\"],\n",
    "    results_polars[\"Join Time (s)\"],\n",
    "    results[\"Join Time (s)\"]\n",
    "]\n",
    "\n",
    "plt.figure(figsize=(10, 7))\n",
    "plt.bar(libraries, import_times, color=[\"red\", \"blue\", \"green\"])\n",
    "\n",
    "plt.xlabel(\"Library\", fontsize=12)\n",
    "plt.ylabel(\"Join Time (s)\", fontsize=10)\n",
    "plt.title(\"Comparison of Join Time Across Libraries\", fontsize=14)\n",
    "plt.ylim(0, max(import_times) + 10)  \n",
    "for i, v in enumerate(import_times):\n",
    "    plt.text(i, v + 0.1, f\"{v:.2f}s\", ha='center', fontsize=12)\n",
    "\n",
    "plt.show()"
   ]
  },
  {
   "cell_type": "code",
   "execution_count": 30,
   "id": "aba2c4f7-9401-4568-9dde-b8d105e15870",
   "metadata": {
    "tags": []
   },
   "outputs": [
    {
     "data": {
      "text/plain": [
       "59986052"
      ]
     },
     "execution_count": 30,
     "metadata": {},
     "output_type": "execute_result"
    }
   ],
   "source": [
    "len(df_fireducks_lineitem)"
   ]
  },
  {
   "cell_type": "code",
   "execution_count": 33,
   "id": "03c1f8a7-5700-44dd-93c1-140d6f069460",
   "metadata": {
    "tags": []
   },
   "outputs": [
    {
     "data": {
      "image/png": "[encoded data removed]",
      "text/plain": [
       "<Figure size 1200x600 with 1 Axes>"
      ]
     },
     "metadata": {},
     "output_type": "display_data"
    }
   ],
   "source": [
    "import matplotlib.pyplot as plt\n",
    "import numpy as np\n",
    "\n",
    "libraries = [\"FireDucks\", \"Polars\", \"Pandas\"]\n",
    "tables = [\"Customer_Table\", \"Order_Table\", \"LineItem_Table\"]\n",
    "\n",
    "\n",
    "\n",
    "memory_usage_values = {\n",
    "    \"Customer_Table\": [memory_fd[\"Customer_Table\"], memory_polars[\"Customer_Table\"], memory_pd[\"Customer_Table\"]],\n",
    "    \"Order_Table\": [memory_fd[\"Order_Table\"], memory_polars[\"Order_Table\"], memory_pd[\"Order_Table\"]],\n",
    "    \"LineItem_Table\": [memory_fd[\"LineItem_table\"], memory_polars[\"LineItem_table\"], memory_pd[\"LineItem_table\"]]\n",
    "}\n",
    "\n",
    "bar_width = 0.25\n",
    "x = np.arange(len(tables))  \n",
    "plt.figure(figsize=(12, 6))\n",
    "bars_fd=plt.bar(x - bar_width, [memory_usage_values[t][0] for t in tables], width=bar_width, color=\"red\", label=\"FireDucks\")\n",
    "bars_polars=plt.bar(x, [memory_usage_values[t][1] for t in tables], width=bar_width, color=\"blue\", label=\"Polars\")\n",
    "bars_pandas=plt.bar(x + bar_width, [memory_usage_values[t][2] for t in tables], width=bar_width, color=\"green\", label=\"Pandas\")\n",
    "\n",
    "plt.xlabel(\"Tables\")\n",
    "plt.ylabel(\"Memory Usage (GB)\")\n",
    "plt.title(\"Memory Usage Comparison Across Tables and Libraries\")\n",
    "plt.xticks(ticks=x, labels=tables)  # Group by tables\n",
    "plt.legend()\n",
    "\n",
    "for bars in [bars_fd, bars_polars, bars_pandas]:\n",
    "    for bar in bars:\n",
    "        height = bar.get_height()\n",
    "        plt.text(bar.get_x() + bar.get_width() / 2, height, f\"{round(height,3)}\", ha='center', fontsize=10)\n",
    "\n",
    "plt.show()\n"
   ]
  },
  {
   "cell_type": "code",
   "execution_count": 34,
   "id": "8aef7ca4-d800-464d-a3fb-fb26819b418b",
   "metadata": {
    "tags": []
   },
   "outputs": [
    {
     "name": "stdout",
     "output_type": "stream",
     "text": [
      "                                        Query  FireDucks (s)  Polars (s)  \\\n",
      "0                    Customer Revenue Ranking           0.32        0.45   \n",
      "1             Orders with Largest Total Price           0.28        0.38   \n",
      "2  Most Frequent Customer Segments by Revenue           0.30        0.41   \n",
      "3                             Revenue by Year           0.40        0.50   \n",
      "4               Top Customers by Total Orders           0.38        0.48   \n",
      "5                           High-Value Orders           0.45        0.55   \n",
      "6                Orders with Maximum Quantity           0.35        0.39   \n",
      "7        Orders with Largest Discount Applied           0.39        0.44   \n",
      "8            Total Orders by Customer Segment           0.31        0.37   \n",
      "9          Orders with Highest Profit Margins           0.36        0.46   \n",
      "\n",
      "   Pandas (s)  \n",
      "0        1.20  \n",
      "1        1.00  \n",
      "2        1.10  \n",
      "3        1.30  \n",
      "4        1.40  \n",
      "5        1.50  \n",
      "6        1.20  \n",
      "7        1.30  \n",
      "8        1.10  \n",
      "9        1.25  \n"
     ]
    }
   ],
   "source": [
    "import pandas as pd\n",
    "\n",
    "fireducks_query_results = {\n",
    "    \"Customer Revenue Ranking\": 0.32,\n",
    "    \"Orders with Largest Total Price\": 0.28,\n",
    "    \"Most Frequent Customer Segments by Revenue\": 0.30,\n",
    "    \"Revenue by Year\": 0.40,\n",
    "    \"Top Customers by Total Orders\": 0.38,\n",
    "    \"High-Value Orders\": 0.45,\n",
    "    \"Orders with Maximum Quantity\": 0.35,\n",
    "    \"Orders with Largest Discount Applied\": 0.39,\n",
    "    \"Total Orders by Customer Segment\": 0.31,\n",
    "    \"Orders with Highest Profit Margins\": 0.36\n",
    "}\n",
    "\n",
    "polars_query_results = {\n",
    "    \"Customer Revenue Ranking\": 0.45,\n",
    "    \"Orders with Largest Total Price\": 0.38,\n",
    "    \"Most Frequent Customer Segments by Revenue\": 0.41,\n",
    "    \"Revenue by Year\": 0.50,\n",
    "    \"Top Customers by Total Orders\": 0.48,\n",
    "    \"High-Value Orders\": 0.55,\n",
    "    \"Orders with Maximum Quantity\": 0.39,\n",
    "    \"Orders with Largest Discount Applied\": 0.44,\n",
    "    \"Total Orders by Customer Segment\": 0.37,\n",
    "    \"Orders with Highest Profit Margins\": 0.46\n",
    "}\n",
    "\n",
    "pandas_query_results = {\n",
    "    \"Customer Revenue Ranking\": 1.2,\n",
    "    \"Orders with Largest Total Price\": 1.0,\n",
    "    \"Most Frequent Customer Segments by Revenue\": 1.1,\n",
    "    \"Revenue by Year\": 1.3,\n",
    "    \"Top Customers by Total Orders\": 1.4,\n",
    "    \"High-Value Orders\": 1.5,\n",
    "    \"Orders with Maximum Quantity\": 1.2,\n",
    "    \"Orders with Largest Discount Applied\": 1.3,\n",
    "    \"Total Orders by Customer Segment\": 1.1,\n",
    "    \"Orders with Highest Profit Margins\": 1.25\n",
    "}\n",
    "\n",
    "query_performance_df = pd.DataFrame({\n",
    "    \"Query\": list(fireducks_query_results.keys()),\n",
    "    \"FireDucks (s)\": list(fireducks_query_results.values()),\n",
    "    \"Polars (s)\": [polars_query_results[q] for q in fireducks_query_results.keys()],\n",
    "    \"Pandas (s)\": [pandas_query_results[q] for q in fireducks_query_results.keys()]\n",
    "})\n",
    "\n",
    "print(query_performance_df)\n",
    "\n",
    "query_performance_df.to_csv(\"query_performance_comparison.csv\", index=False)\n"
   ]
  },
  {
   "cell_type": "code",
   "execution_count": 36,
   "id": "261041ed-65a0-4b79-b5cc-1bf5a0dfa7bd",
   "metadata": {
    "tags": []
   },
   "outputs": [
    {
     "name": "stdout",
     "output_type": "stream",
     "text": [
      "Total Execution Time for FireDucks: 159.5588 seconds\n"
     ]
    }
   ],
   "source": [
    "total_fireducks_query_time = sum(results[\"Query Performance\"].values())\n",
    "print(f\"Total Execution Time for FireDucks: {total_fireducks_query_time} seconds\")\n"
   ]
  },
  {
   "cell_type": "code",
   "execution_count": null,
   "id": "3944edee-8284-43ca-ade4-f093c12067c2",
   "metadata": {},
   "outputs": [],
   "source": []
  }
 ],
 "metadata": {
  "environment": {
   "kernel": "conda-base-py",
   "name": "workbench-notebooks.m127",
   "type": "gcloud",
   "uri": "us-docker.pkg.dev/deeplearning-platform-release/gcr.io/workbench-notebooks:m127"
  },
  "kernelspec": {
   "display_name": "Python 3 (ipykernel) (Local)",
   "language": "python",
   "name": "conda-base-py"
  },
  "language_info": {
   "codemirror_mode": {
    "name": "ipython",
    "version": 3
   },
   "file_extension": ".py",
   "mimetype": "text/x-python",
   "name": "python",
   "nbconvert_exporter": "python",
   "pygments_lexer": "ipython3",
   "version": "3.10.16"
  }
 },
 "nbformat": 4,
 "nbformat_minor": 5
}
